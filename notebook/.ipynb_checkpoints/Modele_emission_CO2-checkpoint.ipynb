{
 "cells": [
  {
   "cell_type": "markdown",
   "id": "dcb6d327",
   "metadata": {},
   "source": [
    "# DataFrame"
   ]
  },
  {
   "cell_type": "code",
   "execution_count": 2,
   "id": "92859b3b",
   "metadata": {},
   "outputs": [],
   "source": [
    "# les libraries nécessaires :\n",
    "import pandas as pd\n",
    "import numpy as np\n",
    "import math\n",
    "import matplotlib.pyplot as plt\n",
    "import seaborn as sns"
   ]
  },
  {
   "cell_type": "code",
   "execution_count": 4,
   "id": "0a2ecc57",
   "metadata": {},
   "outputs": [
    {
     "ename": "SyntaxError",
     "evalue": "(unicode error) 'unicodeescape' codec can't decode bytes in position 2-3: truncated \\UXXXXXXXX escape (<ipython-input-4-1ed521941075>, line 1)",
     "output_type": "error",
     "traceback": [
      "\u001b[1;36m  File \u001b[1;32m\"<ipython-input-4-1ed521941075>\"\u001b[1;36m, line \u001b[1;32m1\u001b[0m\n\u001b[1;33m    data = pd.read_csv('C:\\Users\\edenl\\Desktop\\ia_coding\\machine_learning\\co2\\data\\Clean.csv')\u001b[0m\n\u001b[1;37m                       ^\u001b[0m\n\u001b[1;31mSyntaxError\u001b[0m\u001b[1;31m:\u001b[0m (unicode error) 'unicodeescape' codec can't decode bytes in position 2-3: truncated \\UXXXXXXXX escape\n"
     ]
    }
   ],
   "source": [
    "# data = pd.read_csv('C:/Users/edenl/Desktop/ia_coding\\machine_learning\\co2\\data\\Clean.csv')\n",
    "data.head()"
   ]
  },
  {
   "cell_type": "code",
   "execution_count": null,
   "id": "add87ff2",
   "metadata": {},
   "outputs": [],
   "source": [
    "data = data.drop(['Unnamed: 0'], axis=1)"
   ]
  },
  {
   "cell_type": "code",
   "execution_count": null,
   "id": "fbfd3f36",
   "metadata": {},
   "outputs": [],
   "source": [
    "data = data.drop(['ENERGYSTARScore'], axis=1)"
   ]
  },
  {
   "cell_type": "code",
   "execution_count": null,
   "id": "a65e1ff4",
   "metadata": {},
   "outputs": [],
   "source": [
    "data.dropna(inplace = True)"
   ]
  },
  {
   "cell_type": "code",
   "execution_count": 6,
   "id": "28df4b3d",
   "metadata": {
    "scrolled": false
   },
   "outputs": [
    {
     "data": {
      "text/html": [
       "<div>\n",
       "<style scoped>\n",
       "    .dataframe tbody tr th:only-of-type {\n",
       "        vertical-align: middle;\n",
       "    }\n",
       "\n",
       "    .dataframe tbody tr th {\n",
       "        vertical-align: top;\n",
       "    }\n",
       "\n",
       "    .dataframe thead th {\n",
       "        text-align: right;\n",
       "    }\n",
       "</style>\n",
       "<table border=\"1\" class=\"dataframe\">\n",
       "  <thead>\n",
       "    <tr style=\"text-align: right;\">\n",
       "      <th></th>\n",
       "      <th>OSEBuildingID</th>\n",
       "      <th>DataYear</th>\n",
       "      <th>BuildingType</th>\n",
       "      <th>PrimaryPropertyType</th>\n",
       "      <th>CouncilDistrictCode</th>\n",
       "      <th>Neighborhood</th>\n",
       "      <th>Latitude</th>\n",
       "      <th>Longitude</th>\n",
       "      <th>YearBuilt</th>\n",
       "      <th>NumberofBuildings</th>\n",
       "      <th>...</th>\n",
       "      <th>ThirdLargestPropertyUseTypeGFA</th>\n",
       "      <th>SiteEUI(kBtu/sf)</th>\n",
       "      <th>SourceEUI(kBtu/sf)</th>\n",
       "      <th>SiteEnergyUse(kBtu)</th>\n",
       "      <th>SteamUse(kBtu)</th>\n",
       "      <th>Electricity(kBtu)</th>\n",
       "      <th>NaturalGas(kBtu)</th>\n",
       "      <th>TotalGHGEmissions</th>\n",
       "      <th>GHGEmissionsIntensity</th>\n",
       "      <th>BuildingAge</th>\n",
       "    </tr>\n",
       "  </thead>\n",
       "  <tbody>\n",
       "    <tr>\n",
       "      <th>104</th>\n",
       "      <td>172</td>\n",
       "      <td>2016</td>\n",
       "      <td>Campus</td>\n",
       "      <td>University</td>\n",
       "      <td>1</td>\n",
       "      <td>DELRIDGE</td>\n",
       "      <td>47.54700</td>\n",
       "      <td>-122.35307</td>\n",
       "      <td>1970</td>\n",
       "      <td>27.0</td>\n",
       "      <td>...</td>\n",
       "      <td>0.0</td>\n",
       "      <td>79.300003</td>\n",
       "      <td>192.800003</td>\n",
       "      <td>38301744.0</td>\n",
       "      <td>0.0</td>\n",
       "      <td>25314575.0</td>\n",
       "      <td>12987166.0</td>\n",
       "      <td>866.23</td>\n",
       "      <td>1.96</td>\n",
       "      <td>46</td>\n",
       "    </tr>\n",
       "    <tr>\n",
       "      <th>161</th>\n",
       "      <td>261</td>\n",
       "      <td>2016</td>\n",
       "      <td>Campus</td>\n",
       "      <td>Large Office</td>\n",
       "      <td>1</td>\n",
       "      <td>GREATER DUWAMISH</td>\n",
       "      <td>47.52429</td>\n",
       "      <td>-122.31234</td>\n",
       "      <td>1980</td>\n",
       "      <td>14.0</td>\n",
       "      <td>...</td>\n",
       "      <td>16766.0</td>\n",
       "      <td>159.899994</td>\n",
       "      <td>451.200012</td>\n",
       "      <td>53466684.0</td>\n",
       "      <td>0.0</td>\n",
       "      <td>45321378.0</td>\n",
       "      <td>8145300.0</td>\n",
       "      <td>748.55</td>\n",
       "      <td>2.24</td>\n",
       "      <td>36</td>\n",
       "    </tr>\n",
       "    <tr>\n",
       "      <th>1099</th>\n",
       "      <td>23622</td>\n",
       "      <td>2016</td>\n",
       "      <td>Campus</td>\n",
       "      <td>Other</td>\n",
       "      <td>7</td>\n",
       "      <td>MAGNOLIA / QUEEN ANNE</td>\n",
       "      <td>47.65561</td>\n",
       "      <td>-122.38063</td>\n",
       "      <td>1955</td>\n",
       "      <td>23.0</td>\n",
       "      <td>...</td>\n",
       "      <td>0.0</td>\n",
       "      <td>130.699997</td>\n",
       "      <td>353.200012</td>\n",
       "      <td>34012980.0</td>\n",
       "      <td>0.0</td>\n",
       "      <td>26894616.0</td>\n",
       "      <td>7118362.0</td>\n",
       "      <td>565.55</td>\n",
       "      <td>2.17</td>\n",
       "      <td>61</td>\n",
       "    </tr>\n",
       "    <tr>\n",
       "      <th>1319</th>\n",
       "      <td>25251</td>\n",
       "      <td>2016</td>\n",
       "      <td>Campus</td>\n",
       "      <td>University</td>\n",
       "      <td>7</td>\n",
       "      <td>MAGNOLIA / QUEEN ANNE</td>\n",
       "      <td>47.65019</td>\n",
       "      <td>-122.36173</td>\n",
       "      <td>1945</td>\n",
       "      <td>14.0</td>\n",
       "      <td>...</td>\n",
       "      <td>0.0</td>\n",
       "      <td>169.699997</td>\n",
       "      <td>266.799988</td>\n",
       "      <td>90609640.0</td>\n",
       "      <td>0.0</td>\n",
       "      <td>22619097.0</td>\n",
       "      <td>67990538.0</td>\n",
       "      <td>3768.66</td>\n",
       "      <td>7.02</td>\n",
       "      <td>71</td>\n",
       "    </tr>\n",
       "    <tr>\n",
       "      <th>1627</th>\n",
       "      <td>49967</td>\n",
       "      <td>2016</td>\n",
       "      <td>Campus</td>\n",
       "      <td>University</td>\n",
       "      <td>4</td>\n",
       "      <td>NORTHEAST</td>\n",
       "      <td>47.65644</td>\n",
       "      <td>-122.31041</td>\n",
       "      <td>1900</td>\n",
       "      <td>111.0</td>\n",
       "      <td>...</td>\n",
       "      <td>0.0</td>\n",
       "      <td>93.800003</td>\n",
       "      <td>246.600006</td>\n",
       "      <td>873923712.0</td>\n",
       "      <td>84985240.0</td>\n",
       "      <td>657074389.0</td>\n",
       "      <td>0.0</td>\n",
       "      <td>11140.56</td>\n",
       "      <td>1.20</td>\n",
       "      <td>116</td>\n",
       "    </tr>\n",
       "  </tbody>\n",
       "</table>\n",
       "<p>5 rows × 29 columns</p>\n",
       "</div>"
      ],
      "text/plain": [
       "      OSEBuildingID  DataYear BuildingType PrimaryPropertyType  \\\n",
       "104             172      2016       Campus          University   \n",
       "161             261      2016       Campus        Large Office   \n",
       "1099          23622      2016       Campus               Other   \n",
       "1319          25251      2016       Campus          University   \n",
       "1627          49967      2016       Campus          University   \n",
       "\n",
       "      CouncilDistrictCode           Neighborhood  Latitude  Longitude  \\\n",
       "104                     1               DELRIDGE  47.54700 -122.35307   \n",
       "161                     1       GREATER DUWAMISH  47.52429 -122.31234   \n",
       "1099                    7  MAGNOLIA / QUEEN ANNE  47.65561 -122.38063   \n",
       "1319                    7  MAGNOLIA / QUEEN ANNE  47.65019 -122.36173   \n",
       "1627                    4              NORTHEAST  47.65644 -122.31041   \n",
       "\n",
       "      YearBuilt  NumberofBuildings  ...  ThirdLargestPropertyUseTypeGFA  \\\n",
       "104        1970               27.0  ...                             0.0   \n",
       "161        1980               14.0  ...                         16766.0   \n",
       "1099       1955               23.0  ...                             0.0   \n",
       "1319       1945               14.0  ...                             0.0   \n",
       "1627       1900              111.0  ...                             0.0   \n",
       "\n",
       "      SiteEUI(kBtu/sf)  SourceEUI(kBtu/sf)  SiteEnergyUse(kBtu)  \\\n",
       "104          79.300003          192.800003           38301744.0   \n",
       "161         159.899994          451.200012           53466684.0   \n",
       "1099        130.699997          353.200012           34012980.0   \n",
       "1319        169.699997          266.799988           90609640.0   \n",
       "1627         93.800003          246.600006          873923712.0   \n",
       "\n",
       "     SteamUse(kBtu)  Electricity(kBtu) NaturalGas(kBtu)  TotalGHGEmissions  \\\n",
       "104             0.0         25314575.0       12987166.0             866.23   \n",
       "161             0.0         45321378.0        8145300.0             748.55   \n",
       "1099            0.0         26894616.0        7118362.0             565.55   \n",
       "1319            0.0         22619097.0       67990538.0            3768.66   \n",
       "1627     84985240.0        657074389.0              0.0           11140.56   \n",
       "\n",
       "     GHGEmissionsIntensity  BuildingAge  \n",
       "104                   1.96           46  \n",
       "161                   2.24           36  \n",
       "1099                  2.17           61  \n",
       "1319                  7.02           71  \n",
       "1627                  1.20          116  \n",
       "\n",
       "[5 rows x 29 columns]"
      ]
     },
     "execution_count": 6,
     "metadata": {},
     "output_type": "execute_result"
    }
   ],
   "source": [
    "data[data['NumberofBuildings'] > 11]"
   ]
  },
  {
   "cell_type": "code",
   "execution_count": 7,
   "id": "916d24d6",
   "metadata": {},
   "outputs": [
    {
     "data": {
      "text/plain": [
       "OSEBuildingID                        int64\n",
       "DataYear                             int64\n",
       "BuildingType                        object\n",
       "PrimaryPropertyType                 object\n",
       "CouncilDistrictCode                  int64\n",
       "Neighborhood                        object\n",
       "Latitude                           float64\n",
       "Longitude                          float64\n",
       "YearBuilt                            int64\n",
       "NumberofBuildings                  float64\n",
       "NumberofFloors                       int64\n",
       "PropertyGFATotal                     int64\n",
       "PropertyGFAParking                   int64\n",
       "PropertyGFABuilding(s)               int64\n",
       "LargestPropertyUseType              object\n",
       "LargestPropertyUseTypeGFA          float64\n",
       "SecondLargestPropertyUseType        object\n",
       "SecondLargestPropertyUseTypeGFA    float64\n",
       "ThirdLargestPropertyUseType         object\n",
       "ThirdLargestPropertyUseTypeGFA     float64\n",
       "SiteEUI(kBtu/sf)                   float64\n",
       "SourceEUI(kBtu/sf)                 float64\n",
       "SiteEnergyUse(kBtu)                float64\n",
       "SteamUse(kBtu)                     float64\n",
       "Electricity(kBtu)                  float64\n",
       "NaturalGas(kBtu)                   float64\n",
       "TotalGHGEmissions                  float64\n",
       "GHGEmissionsIntensity              float64\n",
       "BuildingAge                          int64\n",
       "dtype: object"
      ]
     },
     "execution_count": 7,
     "metadata": {},
     "output_type": "execute_result"
    }
   ],
   "source": [
    "data.dtypes"
   ]
  },
  {
   "cell_type": "markdown",
   "id": "e15522d2",
   "metadata": {},
   "source": [
    "# Preprocessing"
   ]
  },
  {
   "cell_type": "markdown",
   "id": "9f6f894e",
   "metadata": {
    "heading_collapsed": true
   },
   "source": [
    "## Import Librirairies"
   ]
  },
  {
   "cell_type": "code",
   "execution_count": 8,
   "id": "ce3ba3a8",
   "metadata": {
    "hidden": true
   },
   "outputs": [],
   "source": [
    "from sklearn.compose import make_column_transformer\n",
    "from sklearn.preprocessing import OneHotEncoder\n",
    "from sklearn.preprocessing import LabelEncoder\n",
    "from sklearn.preprocessing import StandardScaler\n",
    "from sklearn.preprocessing import RobustScaler\n",
    "from sklearn.pipeline import make_pipeline\n",
    "from sklearn.linear_model import LinearRegression\n",
    "from sklearn.model_selection import cross_val_score\n",
    "from scikitplot.estimators import plot_learning_curve\n",
    "from sklearn import model_selection"
   ]
  },
  {
   "cell_type": "markdown",
   "id": "7f0454cb",
   "metadata": {},
   "source": [
    "## Feature Selection"
   ]
  },
  {
   "cell_type": "code",
   "execution_count": 9,
   "id": "c2eb6aa7",
   "metadata": {},
   "outputs": [],
   "source": [
    "features_cat = list(data.select_dtypes(include=['object']))\n",
    "\n",
    "features_num = ['OSEBuildingID', 'CouncilDistrictCode',  'NumberofFloors','PropertyGFATotal', 'PropertyGFAParking', \n",
    "                'PropertyGFABuilding(s)', 'BuildingAge']\n",
    "\n",
    "to_predict = ['SiteEnergyUse(kBtu)', 'TotalGHGEmissions']"
   ]
  },
  {
   "cell_type": "markdown",
   "id": "aa499e66",
   "metadata": {},
   "source": [
    "## Standardisation et encodage des features"
   ]
  },
  {
   "cell_type": "code",
   "execution_count": 10,
   "id": "7e8edc29",
   "metadata": {
    "scrolled": true
   },
   "outputs": [],
   "source": [
    "column_trans = make_column_transformer(\n",
    "    (OneHotEncoder(), features_cat),  # encodage\n",
    "    (StandardScaler(), features_num), # standardisation\n",
    "    remainder='passthrough')\n",
    "\n",
    "y = data['TotalGHGEmissions'].values\n",
    "X = column_trans.fit_transform(data[features_cat + features_num])"
   ]
  },
  {
   "cell_type": "code",
   "execution_count": 11,
   "id": "ba3abdc5",
   "metadata": {
    "scrolled": true
   },
   "outputs": [
    {
     "data": {
      "text/plain": [
       "(1661, 196)"
      ]
     },
     "execution_count": 11,
     "metadata": {},
     "output_type": "execute_result"
    }
   ],
   "source": [
    "X.shape"
   ]
  },
  {
   "cell_type": "code",
   "execution_count": 1,
   "id": "ca9fc368",
   "metadata": {},
   "outputs": [
    {
     "ename": "NameError",
     "evalue": "name 'df' is not defined",
     "output_type": "error",
     "traceback": [
      "\u001b[1;31m---------------------------------------------------------------------------\u001b[0m",
      "\u001b[1;31mNameError\u001b[0m                                 Traceback (most recent call last)",
      "\u001b[1;32m<ipython-input-1-13fbaf44b0d4>\u001b[0m in \u001b[0;36m<module>\u001b[1;34m\u001b[0m\n\u001b[1;32m----> 1\u001b[1;33m \u001b[0mt\u001b[0m \u001b[1;33m=\u001b[0m \u001b[0mdf\u001b[0m\u001b[1;33m.\u001b[0m\u001b[0mto_csv\u001b[0m\u001b[1;33m(\u001b[0m\u001b[1;34m\"tes,kljh bogbhnj,k;t.csv\"\u001b[0m\u001b[1;33m)\u001b[0m\u001b[1;33m\u001b[0m\u001b[1;33m\u001b[0m\u001b[0m\n\u001b[0m",
      "\u001b[1;31mNameError\u001b[0m: name 'df' is not defined"
     ]
    }
   ],
   "source": [
    "t = df.to_csv(\"tes,kljh bogbhnj,k;t.csv\")"
   ]
  },
  {
   "cell_type": "markdown",
   "id": "e199d539",
   "metadata": {},
   "source": [
    "## Echantillonnage "
   ]
  },
  {
   "cell_type": "code",
   "execution_count": 12,
   "id": "bc07e5ce",
   "metadata": {},
   "outputs": [
    {
     "name": "stdout",
     "output_type": "stream",
     "text": [
      "La taille de données d'entrainement : 1328\n",
      "La taille de données d'entrainement : 333\n"
     ]
    }
   ],
   "source": [
    "# Séparons nos données en un jeu de test et un jeu d'entraînement :\n",
    "X_train, X_test, y_train, y_test = model_selection.train_test_split(\n",
    "    X, y, test_size=0.2, random_state = 42)  # 20% des données dans le jeu de test\n",
    "\n",
    "print(f\"La taille de données d'entrainement : {X_train.shape[0]}\")\n",
    "print(f\"La taille de données d'entrainement : {X_test.shape[0]}\")"
   ]
  },
  {
   "cell_type": "markdown",
   "id": "01ad839e",
   "metadata": {},
   "source": [
    "# Modèles "
   ]
  },
  {
   "cell_type": "markdown",
   "id": "121b7f5b",
   "metadata": {},
   "source": [
    "## Import Librairies"
   ]
  },
  {
   "cell_type": "code",
   "execution_count": 13,
   "id": "d3f8f377",
   "metadata": {},
   "outputs": [],
   "source": [
    "# Chargement des librairies\n",
    "\n",
    "# Algorithmes simples\n",
    "from sklearn.linear_model import LinearRegression\n",
    "from sklearn.linear_model import Ridge\n",
    "from sklearn.linear_model import Lasso\n",
    "from sklearn.linear_model import ElasticNet\n",
    "from sklearn.svm import SVR\n",
    "from sklearn.svm import LinearSVR\n",
    "from sklearn.neighbors import KNeighborsRegressor\n",
    "from sklearn.tree import DecisionTreeRegressor\n",
    "\n",
    "# Algorithmes ensemblistes\n",
    "from sklearn.ensemble import RandomForestRegressor\n",
    "from sklearn.ensemble import GradientBoostingRegressor\n",
    "from sklearn.ensemble import AdaBoostRegressor\n",
    "\n",
    "# Utiles\n",
    "from sklearn.model_selection import train_test_split\n",
    "from sklearn.model_selection import cross_val_score\n",
    "from sklearn.model_selection import GridSearchCV\n",
    "from sklearn.dummy import DummyRegressor\n",
    "from sklearn.pipeline import Pipeline\n",
    "\n",
    "# Normalisation\n",
    "from sklearn.preprocessing import StandardScaler\n",
    "from sklearn.preprocessing import RobustScaler\n",
    "\n",
    "# Scoring\n",
    "from sklearn import metrics\n",
    "from sklearn.metrics import mean_squared_error\n",
    "from sklearn.metrics import r2_score\n",
    "\n",
    "from sklearn import preprocessing\n",
    "from sklearn.preprocessing import StandardScaler\n",
    "\n",
    "#import warnings\n",
    "#warnings.filterwarnings('ignore')"
   ]
  },
  {
   "cell_type": "markdown",
   "id": "fc95675d",
   "metadata": {},
   "source": [
    "## Métriques"
   ]
  },
  {
   "cell_type": "code",
   "execution_count": 14,
   "id": "5362ec1d",
   "metadata": {},
   "outputs": [],
   "source": [
    "def score (modele, R2, RMSE, MAE):\n",
    "    df_scores.loc[df_scores.shape[0]] = [modele, R2, RMSE, MAE]\n",
    "    df_scores.sort_values(by='R2', ascending=False, inplace=True)\n",
    "    df_scores.drop_duplicates(subset=['modele'], keep='last', inplace=True)\n",
    "    df_scores.reset_index(drop=True, inplace=True)\n",
    "    return df_scores"
   ]
  },
  {
   "cell_type": "code",
   "execution_count": 15,
   "id": "1ebe1599",
   "metadata": {},
   "outputs": [],
   "source": [
    "scores = []\n",
    "df_scores = pd.DataFrame(\n",
    "    scores, columns=['modele', 'R2', 'RMSE', 'MAE'])"
   ]
  },
  {
   "cell_type": "markdown",
   "id": "8d29ebfa",
   "metadata": {},
   "source": [
    "## Linear Regression"
   ]
  },
  {
   "cell_type": "code",
   "execution_count": 16,
   "id": "31cbc9d1",
   "metadata": {
    "scrolled": true
   },
   "outputs": [],
   "source": [
    "lin_reg = LinearRegression()\n",
    "lin_reg.fit(X_train, y_train)\n",
    "y_pred_lr = lin_reg.predict(X_test)"
   ]
  },
  {
   "cell_type": "code",
   "execution_count": 17,
   "id": "2b3c4288",
   "metadata": {
    "scrolled": true
   },
   "outputs": [
    {
     "name": "stdout",
     "output_type": "stream",
     "text": [
      "R2_score : 0.3957\n"
     ]
    }
   ],
   "source": [
    "# Prediction score :\n",
    "print(\"R2_score : {:.4f}\".format(r2_score(y_test, y_pred_lr)))"
   ]
  },
  {
   "cell_type": "code",
   "execution_count": 18,
   "id": "9c22a6e5",
   "metadata": {
    "scrolled": true
   },
   "outputs": [],
   "source": [
    "parametres_LR = {}\n",
    "\n",
    "# On crée un modèle de régression linéaire\n",
    "# On entraîne ce modèle sur les données d'entrainement\n",
    "grid_LR = GridSearchCV(LinearRegression(),\n",
    "                       parametres_LR,\n",
    "                       scoring='r2',\n",
    "                       cv=5)\n",
    "modele_LR = grid_LR.fit(X_train, y_train)\n",
    "y_pred_LR = grid_LR.predict(X_test)"
   ]
  },
  {
   "cell_type": "code",
   "execution_count": 19,
   "id": "81b20ca4",
   "metadata": {
    "scrolled": false
   },
   "outputs": [
    {
     "name": "stdout",
     "output_type": "stream",
     "text": [
      "{}\n"
     ]
    },
    {
     "data": {
      "text/html": [
       "<div>\n",
       "<style scoped>\n",
       "    .dataframe tbody tr th:only-of-type {\n",
       "        vertical-align: middle;\n",
       "    }\n",
       "\n",
       "    .dataframe tbody tr th {\n",
       "        vertical-align: top;\n",
       "    }\n",
       "\n",
       "    .dataframe thead th {\n",
       "        text-align: right;\n",
       "    }\n",
       "</style>\n",
       "<table border=\"1\" class=\"dataframe\">\n",
       "  <thead>\n",
       "    <tr style=\"text-align: right;\">\n",
       "      <th></th>\n",
       "      <th>modele</th>\n",
       "      <th>R2</th>\n",
       "      <th>RMSE</th>\n",
       "      <th>MAE</th>\n",
       "    </tr>\n",
       "  </thead>\n",
       "  <tbody>\n",
       "    <tr>\n",
       "      <th>0</th>\n",
       "      <td>Linear Regression</td>\n",
       "      <td>0.395746</td>\n",
       "      <td>593.974</td>\n",
       "      <td>8.995</td>\n",
       "    </tr>\n",
       "  </tbody>\n",
       "</table>\n",
       "</div>"
      ],
      "text/plain": [
       "              modele        R2     RMSE    MAE\n",
       "0  Linear Regression  0.395746  593.974  8.995"
      ]
     },
     "execution_count": 19,
     "metadata": {},
     "output_type": "execute_result"
    }
   ],
   "source": [
    "# Affichage des scores\n",
    "r2_LR = r2_score(y_test, y_pred_LR)\n",
    "rmse_LR = round(np.sqrt(metrics.mean_squared_error(y_test, y_pred_LR)), 3)\n",
    "mae_LR = round(np.sqrt(metrics.median_absolute_error(y_test, y_pred_LR)), 3)\n",
    "\n",
    "# Les meilleur parametres\n",
    "print(grid_LR.best_params_)\n",
    "\n",
    "# Ajoute à la liste des scores\n",
    "score('Linear Regression', r2_LR, rmse_LR, mae_LR)"
   ]
  },
  {
   "cell_type": "markdown",
   "id": "86632512",
   "metadata": {},
   "source": [
    "## KNN"
   ]
  },
  {
   "cell_type": "code",
   "execution_count": 20,
   "id": "a6feaf23",
   "metadata": {},
   "outputs": [],
   "source": [
    "parametres_kNN = {\n",
    "    'n_neighbors': np.arange(1, 30),\n",
    "    'metric': ['euclidean', 'manhattan', 'minkowski']\n",
    "    \n",
    "}\n",
    "\n",
    "# On entraîne ce modèle sur les données d'entrainement\n",
    "grid_KNN = GridSearchCV(KNeighborsRegressor(), parametres_kNN, cv=5)\n",
    "grid_KNN.fit(X_train, y_train)\n",
    "y_pred_KNN = grid_KNN.predict(X_test)"
   ]
  },
  {
   "cell_type": "code",
   "execution_count": 21,
   "id": "05d07c9c",
   "metadata": {},
   "outputs": [
    {
     "name": "stdout",
     "output_type": "stream",
     "text": [
      "{'metric': 'euclidean', 'n_neighbors': 3}\n"
     ]
    },
    {
     "data": {
      "text/html": [
       "<div>\n",
       "<style scoped>\n",
       "    .dataframe tbody tr th:only-of-type {\n",
       "        vertical-align: middle;\n",
       "    }\n",
       "\n",
       "    .dataframe tbody tr th {\n",
       "        vertical-align: top;\n",
       "    }\n",
       "\n",
       "    .dataframe thead th {\n",
       "        text-align: right;\n",
       "    }\n",
       "</style>\n",
       "<table border=\"1\" class=\"dataframe\">\n",
       "  <thead>\n",
       "    <tr style=\"text-align: right;\">\n",
       "      <th></th>\n",
       "      <th>modele</th>\n",
       "      <th>R2</th>\n",
       "      <th>RMSE</th>\n",
       "      <th>MAE</th>\n",
       "    </tr>\n",
       "  </thead>\n",
       "  <tbody>\n",
       "    <tr>\n",
       "      <th>0</th>\n",
       "      <td>K Neighbors Regressor</td>\n",
       "      <td>0.628000</td>\n",
       "      <td>466.167</td>\n",
       "      <td>6.168</td>\n",
       "    </tr>\n",
       "    <tr>\n",
       "      <th>1</th>\n",
       "      <td>Linear Regression</td>\n",
       "      <td>0.395746</td>\n",
       "      <td>593.974</td>\n",
       "      <td>8.995</td>\n",
       "    </tr>\n",
       "  </tbody>\n",
       "</table>\n",
       "</div>"
      ],
      "text/plain": [
       "                  modele        R2     RMSE    MAE\n",
       "0  K Neighbors Regressor  0.628000  466.167  6.168\n",
       "1      Linear Regression  0.395746  593.974  8.995"
      ]
     },
     "execution_count": 21,
     "metadata": {},
     "output_type": "execute_result"
    }
   ],
   "source": [
    "# Affichage des scores\n",
    "r2_KNN = round(r2_score(y_test, y_pred_KNN), 3)\n",
    "rmse_KNN = round(np.sqrt(metrics.mean_squared_error(y_test, y_pred_KNN)), 3)\n",
    "mae_KNN = round(np.sqrt(metrics.median_absolute_error(y_test, y_pred_KNN)), 3)\n",
    "\n",
    "# Les meilleur parametres\n",
    "print(grid_KNN.best_params_)\n",
    "\n",
    "# Ajoute à la liste des scores\n",
    "score('K Neighbors Regressor', r2_KNN, rmse_KNN, mae_KNN)"
   ]
  },
  {
   "cell_type": "markdown",
   "id": "0fed7941",
   "metadata": {},
   "source": [
    "## Decision Tree"
   ]
  },
  {
   "cell_type": "code",
   "execution_count": 22,
   "id": "d946ee35",
   "metadata": {},
   "outputs": [],
   "source": [
    "parameters_DT = {\n",
    "    # \"splitter\": [\"best\", \"random\"],\n",
    "    \"max_depth\": [1, 3, 5, 7, 9, 11, 12],\n",
    "    \"max_features\": [\"auto\", \"log2\", None],\n",
    "}\n",
    "\n",
    "# On entraîne ce modèle sur les données d'entrainement\n",
    "grid_DT = GridSearchCV(DecisionTreeRegressor(random_state = 42), parameters_DT, cv=5)\n",
    "grid_DT.fit(X_train, y_train)\n",
    "y_pred_DT = grid_DT.predict(X_test)"
   ]
  },
  {
   "cell_type": "code",
   "execution_count": 23,
   "id": "d0b0cfcd",
   "metadata": {},
   "outputs": [
    {
     "name": "stdout",
     "output_type": "stream",
     "text": [
      "{'max_depth': 7, 'max_features': 'log2'}\n"
     ]
    },
    {
     "data": {
      "text/html": [
       "<div>\n",
       "<style scoped>\n",
       "    .dataframe tbody tr th:only-of-type {\n",
       "        vertical-align: middle;\n",
       "    }\n",
       "\n",
       "    .dataframe tbody tr th {\n",
       "        vertical-align: top;\n",
       "    }\n",
       "\n",
       "    .dataframe thead th {\n",
       "        text-align: right;\n",
       "    }\n",
       "</style>\n",
       "<table border=\"1\" class=\"dataframe\">\n",
       "  <thead>\n",
       "    <tr style=\"text-align: right;\">\n",
       "      <th></th>\n",
       "      <th>modele</th>\n",
       "      <th>R2</th>\n",
       "      <th>RMSE</th>\n",
       "      <th>MAE</th>\n",
       "    </tr>\n",
       "  </thead>\n",
       "  <tbody>\n",
       "    <tr>\n",
       "      <th>0</th>\n",
       "      <td>K Neighbors Regressor</td>\n",
       "      <td>0.628000</td>\n",
       "      <td>466.167</td>\n",
       "      <td>6.168</td>\n",
       "    </tr>\n",
       "    <tr>\n",
       "      <th>1</th>\n",
       "      <td>Linear Regression</td>\n",
       "      <td>0.395746</td>\n",
       "      <td>593.974</td>\n",
       "      <td>8.995</td>\n",
       "    </tr>\n",
       "    <tr>\n",
       "      <th>2</th>\n",
       "      <td>Decision Tree Regressor</td>\n",
       "      <td>-0.670000</td>\n",
       "      <td>987.353</td>\n",
       "      <td>8.414</td>\n",
       "    </tr>\n",
       "  </tbody>\n",
       "</table>\n",
       "</div>"
      ],
      "text/plain": [
       "                    modele        R2     RMSE    MAE\n",
       "0    K Neighbors Regressor  0.628000  466.167  6.168\n",
       "1        Linear Regression  0.395746  593.974  8.995\n",
       "2  Decision Tree Regressor -0.670000  987.353  8.414"
      ]
     },
     "execution_count": 23,
     "metadata": {},
     "output_type": "execute_result"
    }
   ],
   "source": [
    "# Affichage des scores\n",
    "r2_DT = round(r2_score(y_test, y_pred_DT), 3)\n",
    "rmse_DT = round(np.sqrt(metrics.mean_squared_error(y_test, y_pred_DT)), 3)\n",
    "mae_DT = round(np.sqrt(metrics.median_absolute_error(y_test, y_pred_DT)), 3)\n",
    "# Les meilleur parametres\n",
    "print(grid_DT.best_params_)\n",
    "\n",
    "# Ajoute à la liste des scores\n",
    "score('Decision Tree Regressor', r2_DT, rmse_DT, mae_DT)"
   ]
  },
  {
   "cell_type": "markdown",
   "id": "465c44a1",
   "metadata": {},
   "source": [
    "## Random Forest Regressor"
   ]
  },
  {
   "cell_type": "code",
   "execution_count": 24,
   "id": "416152c8",
   "metadata": {},
   "outputs": [],
   "source": [
    "parameters_RF = {\n",
    "    \"max_depth\": [1, 3, 5, 7, 9, 11, 12],\n",
    "    \"max_features\": [\"auto\", \"log2\", None],\n",
    "    \"min_samples_leaf\":[1,2,4]\n",
    "}\n",
    "\n",
    "# On entraîne ce modèle sur les données d'entrainement\n",
    "grid_RF = GridSearchCV(RandomForestRegressor(), parameters_RF, cv=5)\n",
    "grid_RF.fit(X_train, y_train)\n",
    "y_pred_RF = grid_RF.predict(X_test)"
   ]
  },
  {
   "cell_type": "code",
   "execution_count": 25,
   "id": "039b74d9",
   "metadata": {},
   "outputs": [
    {
     "name": "stdout",
     "output_type": "stream",
     "text": [
      "{'max_depth': 5, 'max_features': None, 'min_samples_leaf': 1}\n"
     ]
    },
    {
     "data": {
      "text/html": [
       "<div>\n",
       "<style scoped>\n",
       "    .dataframe tbody tr th:only-of-type {\n",
       "        vertical-align: middle;\n",
       "    }\n",
       "\n",
       "    .dataframe tbody tr th {\n",
       "        vertical-align: top;\n",
       "    }\n",
       "\n",
       "    .dataframe thead th {\n",
       "        text-align: right;\n",
       "    }\n",
       "</style>\n",
       "<table border=\"1\" class=\"dataframe\">\n",
       "  <thead>\n",
       "    <tr style=\"text-align: right;\">\n",
       "      <th></th>\n",
       "      <th>modele</th>\n",
       "      <th>R2</th>\n",
       "      <th>RMSE</th>\n",
       "      <th>MAE</th>\n",
       "    </tr>\n",
       "  </thead>\n",
       "  <tbody>\n",
       "    <tr>\n",
       "      <th>0</th>\n",
       "      <td>K Neighbors Regressor</td>\n",
       "      <td>0.628000</td>\n",
       "      <td>466.167</td>\n",
       "      <td>6.168</td>\n",
       "    </tr>\n",
       "    <tr>\n",
       "      <th>1</th>\n",
       "      <td>Random Forest Regressor</td>\n",
       "      <td>0.497000</td>\n",
       "      <td>542.061</td>\n",
       "      <td>7.360</td>\n",
       "    </tr>\n",
       "    <tr>\n",
       "      <th>2</th>\n",
       "      <td>Linear Regression</td>\n",
       "      <td>0.395746</td>\n",
       "      <td>593.974</td>\n",
       "      <td>8.995</td>\n",
       "    </tr>\n",
       "    <tr>\n",
       "      <th>3</th>\n",
       "      <td>Decision Tree Regressor</td>\n",
       "      <td>-0.670000</td>\n",
       "      <td>987.353</td>\n",
       "      <td>8.414</td>\n",
       "    </tr>\n",
       "  </tbody>\n",
       "</table>\n",
       "</div>"
      ],
      "text/plain": [
       "                    modele        R2     RMSE    MAE\n",
       "0    K Neighbors Regressor  0.628000  466.167  6.168\n",
       "1  Random Forest Regressor  0.497000  542.061  7.360\n",
       "2        Linear Regression  0.395746  593.974  8.995\n",
       "3  Decision Tree Regressor -0.670000  987.353  8.414"
      ]
     },
     "execution_count": 25,
     "metadata": {},
     "output_type": "execute_result"
    }
   ],
   "source": [
    "# Affichage des scores\n",
    "r2_RF = round(r2_score(y_test, y_pred_RF), 3)\n",
    "rmse_RF = round(np.sqrt(metrics.mean_squared_error(y_test, y_pred_RF)), 3)\n",
    "mae_RF = round(np.sqrt(metrics.median_absolute_error(y_test, y_pred_RF)), 3)\n",
    "\n",
    "# Les meilleur parametres\n",
    "print(grid_RF.best_params_)\n",
    "\n",
    "# Ajoute à la liste des scores\n",
    "score('Random Forest Regressor', r2_RF, rmse_RF, mae_RF)"
   ]
  },
  {
   "cell_type": "markdown",
   "id": "54482ea8",
   "metadata": {},
   "source": [
    "## Gradient Boosting Regressor"
   ]
  },
  {
   "cell_type": "code",
   "execution_count": 26,
   "id": "f580ab06",
   "metadata": {},
   "outputs": [],
   "source": [
    "parameters_XG = {\n",
    "    \"max_depth\": [1, 3, 5, 7, 9, 11, 12],\n",
    "    \"max_features\": [\"auto\", \"log2\", None],\n",
    "}\n",
    "\n",
    "# On entraîne ce modèle sur les données d'entrainement\n",
    "grid_XG = GridSearchCV(GradientBoostingRegressor(random_state = 42), parameters_XG, cv=5)\n",
    "grid_XG.fit(X_train, y_train)\n",
    "y_pred_XG = grid_XG.predict(X_test)"
   ]
  },
  {
   "cell_type": "code",
   "execution_count": 27,
   "id": "31a8206f",
   "metadata": {
    "scrolled": true
   },
   "outputs": [
    {
     "name": "stdout",
     "output_type": "stream",
     "text": [
      "{'max_depth': 7, 'max_features': 'log2'}\n"
     ]
    },
    {
     "data": {
      "text/html": [
       "<div>\n",
       "<style scoped>\n",
       "    .dataframe tbody tr th:only-of-type {\n",
       "        vertical-align: middle;\n",
       "    }\n",
       "\n",
       "    .dataframe tbody tr th {\n",
       "        vertical-align: top;\n",
       "    }\n",
       "\n",
       "    .dataframe thead th {\n",
       "        text-align: right;\n",
       "    }\n",
       "</style>\n",
       "<table border=\"1\" class=\"dataframe\">\n",
       "  <thead>\n",
       "    <tr style=\"text-align: right;\">\n",
       "      <th></th>\n",
       "      <th>modele</th>\n",
       "      <th>R2</th>\n",
       "      <th>RMSE</th>\n",
       "      <th>MAE</th>\n",
       "    </tr>\n",
       "  </thead>\n",
       "  <tbody>\n",
       "    <tr>\n",
       "      <th>0</th>\n",
       "      <td>K Neighbors Regressor</td>\n",
       "      <td>0.628000</td>\n",
       "      <td>466.167</td>\n",
       "      <td>6.168</td>\n",
       "    </tr>\n",
       "    <tr>\n",
       "      <th>1</th>\n",
       "      <td>Gradient Boosting Regressor</td>\n",
       "      <td>0.586000</td>\n",
       "      <td>491.423</td>\n",
       "      <td>6.974</td>\n",
       "    </tr>\n",
       "    <tr>\n",
       "      <th>2</th>\n",
       "      <td>Random Forest Regressor</td>\n",
       "      <td>0.497000</td>\n",
       "      <td>542.061</td>\n",
       "      <td>7.360</td>\n",
       "    </tr>\n",
       "    <tr>\n",
       "      <th>3</th>\n",
       "      <td>Linear Regression</td>\n",
       "      <td>0.395746</td>\n",
       "      <td>593.974</td>\n",
       "      <td>8.995</td>\n",
       "    </tr>\n",
       "    <tr>\n",
       "      <th>4</th>\n",
       "      <td>Decision Tree Regressor</td>\n",
       "      <td>-0.670000</td>\n",
       "      <td>987.353</td>\n",
       "      <td>8.414</td>\n",
       "    </tr>\n",
       "  </tbody>\n",
       "</table>\n",
       "</div>"
      ],
      "text/plain": [
       "                        modele        R2     RMSE    MAE\n",
       "0        K Neighbors Regressor  0.628000  466.167  6.168\n",
       "1  Gradient Boosting Regressor  0.586000  491.423  6.974\n",
       "2      Random Forest Regressor  0.497000  542.061  7.360\n",
       "3            Linear Regression  0.395746  593.974  8.995\n",
       "4      Decision Tree Regressor -0.670000  987.353  8.414"
      ]
     },
     "execution_count": 27,
     "metadata": {},
     "output_type": "execute_result"
    }
   ],
   "source": [
    "# Affichage des scores\n",
    "r2_XG = round(r2_score(y_test, y_pred_XG), 3)\n",
    "rmse_XG = round(np.sqrt(metrics.mean_squared_error(y_test, y_pred_XG)), 3)\n",
    "mae_XG = round(np.sqrt(metrics.median_absolute_error(y_test, y_pred_XG)), 3)\n",
    "\n",
    "# Les meilleur parametres\n",
    "print(grid_XG.best_params_)\n",
    "\n",
    "# Ajoute à la liste des scores\n",
    "score('Gradient Boosting Regressor', r2_XG, rmse_XG, mae_XG)"
   ]
  },
  {
   "cell_type": "markdown",
   "id": "4b23522f",
   "metadata": {},
   "source": [
    "# Best Modèle"
   ]
  },
  {
   "cell_type": "markdown",
   "id": "44743194",
   "metadata": {},
   "source": [
    "## Learning Curve"
   ]
  },
  {
   "cell_type": "code",
   "execution_count": null,
   "id": "cdd5f2e2",
   "metadata": {},
   "outputs": [],
   "source": []
  },
  {
   "cell_type": "markdown",
   "id": "3b9ad6a1",
   "metadata": {},
   "source": [
    "# Pickel"
   ]
  },
  {
   "cell_type": "code",
   "execution_count": 28,
   "id": "9d8e0324",
   "metadata": {},
   "outputs": [],
   "source": [
    "import pickle\n",
    "with open('C:/Users/zaome/Documents/Week_formation/Projet_CO2/model.pickle', 'wb') as handle:\n",
    "    pickle.dump(grid_XG, handle, protocol = pickle.HIGHEST_PROTOCOL)"
   ]
  },
  {
   "cell_type": "code",
   "execution_count": null,
   "id": "9fea9df5",
   "metadata": {},
   "outputs": [],
   "source": []
  }
 ],
 "metadata": {
  "kernelspec": {
   "display_name": "Python 3",
   "language": "python",
   "name": "python3"
  },
  "language_info": {
   "codemirror_mode": {
    "name": "ipython",
    "version": 3
   },
   "file_extension": ".py",
   "mimetype": "text/x-python",
   "name": "python",
   "nbconvert_exporter": "python",
   "pygments_lexer": "ipython3",
   "version": "3.8.8"
  },
  "toc": {
   "base_numbering": 1,
   "nav_menu": {},
   "number_sections": true,
   "sideBar": true,
   "skip_h1_title": false,
   "title_cell": "Table of Contents",
   "title_sidebar": "Contents",
   "toc_cell": false,
   "toc_position": {},
   "toc_section_display": true,
   "toc_window_display": false
  },
  "varInspector": {
   "cols": {
    "lenName": 16,
    "lenType": 16,
    "lenVar": 40
   },
   "kernels_config": {
    "python": {
     "delete_cmd_postfix": "",
     "delete_cmd_prefix": "del ",
     "library": "var_list.py",
     "varRefreshCmd": "print(var_dic_list())"
    },
    "r": {
     "delete_cmd_postfix": ") ",
     "delete_cmd_prefix": "rm(",
     "library": "var_list.r",
     "varRefreshCmd": "cat(var_dic_list()) "
    }
   },
   "types_to_exclude": [
    "module",
    "function",
    "builtin_function_or_method",
    "instance",
    "_Feature"
   ],
   "window_display": false
  }
 },
 "nbformat": 4,
 "nbformat_minor": 5
}
