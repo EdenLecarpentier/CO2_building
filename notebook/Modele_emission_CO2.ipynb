{
 "cells": [
  {
   "cell_type": "markdown",
   "id": "dcb6d327",
   "metadata": {},
   "source": [
    "# DataFrame"
   ]
  },
  {
   "cell_type": "code",
   "execution_count": 1,
   "id": "92859b3b",
   "metadata": {},
   "outputs": [],
   "source": [
    "# les libraries nécessaires :\n",
    "import pandas as pd\n",
    "import numpy as np\n",
    "import math\n",
    "import matplotlib.pyplot as plt\n",
    "import seaborn as sns"
   ]
  },
  {
   "cell_type": "code",
   "execution_count": 2,
   "id": "0a2ecc57",
   "metadata": {},
   "outputs": [
    {
     "data": {
      "text/html": [
       "<div>\n",
       "<style scoped>\n",
       "    .dataframe tbody tr th:only-of-type {\n",
       "        vertical-align: middle;\n",
       "    }\n",
       "\n",
       "    .dataframe tbody tr th {\n",
       "        vertical-align: top;\n",
       "    }\n",
       "\n",
       "    .dataframe thead th {\n",
       "        text-align: right;\n",
       "    }\n",
       "</style>\n",
       "<table border=\"1\" class=\"dataframe\">\n",
       "  <thead>\n",
       "    <tr style=\"text-align: right;\">\n",
       "      <th></th>\n",
       "      <th>Unnamed: 0</th>\n",
       "      <th>OSEBuildingID</th>\n",
       "      <th>DataYear</th>\n",
       "      <th>BuildingType</th>\n",
       "      <th>PrimaryPropertyType</th>\n",
       "      <th>CouncilDistrictCode</th>\n",
       "      <th>Neighborhood</th>\n",
       "      <th>Latitude</th>\n",
       "      <th>Longitude</th>\n",
       "      <th>YearBuilt</th>\n",
       "      <th>...</th>\n",
       "      <th>ENERGYSTARScore</th>\n",
       "      <th>SiteEUI(kBtu/sf)</th>\n",
       "      <th>SourceEUI(kBtu/sf)</th>\n",
       "      <th>SiteEnergyUse(kBtu)</th>\n",
       "      <th>SteamUse(kBtu)</th>\n",
       "      <th>Electricity(kBtu)</th>\n",
       "      <th>NaturalGas(kBtu)</th>\n",
       "      <th>TotalGHGEmissions</th>\n",
       "      <th>GHGEmissionsIntensity</th>\n",
       "      <th>BuildingAge</th>\n",
       "    </tr>\n",
       "  </thead>\n",
       "  <tbody>\n",
       "    <tr>\n",
       "      <th>0</th>\n",
       "      <td>0</td>\n",
       "      <td>1</td>\n",
       "      <td>2016</td>\n",
       "      <td>NonResidential</td>\n",
       "      <td>Hotel</td>\n",
       "      <td>7</td>\n",
       "      <td>DOWNTOWN</td>\n",
       "      <td>47.61220</td>\n",
       "      <td>-122.33799</td>\n",
       "      <td>1927</td>\n",
       "      <td>...</td>\n",
       "      <td>60.0</td>\n",
       "      <td>81.699997</td>\n",
       "      <td>182.500000</td>\n",
       "      <td>7226362.5</td>\n",
       "      <td>2003882.00</td>\n",
       "      <td>3946027.0</td>\n",
       "      <td>1276453.0</td>\n",
       "      <td>249.98</td>\n",
       "      <td>2.83</td>\n",
       "      <td>89</td>\n",
       "    </tr>\n",
       "    <tr>\n",
       "      <th>1</th>\n",
       "      <td>1</td>\n",
       "      <td>2</td>\n",
       "      <td>2016</td>\n",
       "      <td>NonResidential</td>\n",
       "      <td>Hotel</td>\n",
       "      <td>7</td>\n",
       "      <td>DOWNTOWN</td>\n",
       "      <td>47.61317</td>\n",
       "      <td>-122.33393</td>\n",
       "      <td>1996</td>\n",
       "      <td>...</td>\n",
       "      <td>61.0</td>\n",
       "      <td>94.800003</td>\n",
       "      <td>176.100006</td>\n",
       "      <td>8387933.0</td>\n",
       "      <td>0.00</td>\n",
       "      <td>3242851.0</td>\n",
       "      <td>5145082.0</td>\n",
       "      <td>295.86</td>\n",
       "      <td>2.86</td>\n",
       "      <td>20</td>\n",
       "    </tr>\n",
       "    <tr>\n",
       "      <th>2</th>\n",
       "      <td>2</td>\n",
       "      <td>3</td>\n",
       "      <td>2016</td>\n",
       "      <td>NonResidential</td>\n",
       "      <td>Hotel</td>\n",
       "      <td>7</td>\n",
       "      <td>DOWNTOWN</td>\n",
       "      <td>47.61393</td>\n",
       "      <td>-122.33810</td>\n",
       "      <td>1969</td>\n",
       "      <td>...</td>\n",
       "      <td>43.0</td>\n",
       "      <td>96.000000</td>\n",
       "      <td>241.899994</td>\n",
       "      <td>72587024.0</td>\n",
       "      <td>21566554.00</td>\n",
       "      <td>49526664.0</td>\n",
       "      <td>1493800.0</td>\n",
       "      <td>2089.28</td>\n",
       "      <td>2.19</td>\n",
       "      <td>47</td>\n",
       "    </tr>\n",
       "    <tr>\n",
       "      <th>3</th>\n",
       "      <td>3</td>\n",
       "      <td>5</td>\n",
       "      <td>2016</td>\n",
       "      <td>NonResidential</td>\n",
       "      <td>Hotel</td>\n",
       "      <td>7</td>\n",
       "      <td>DOWNTOWN</td>\n",
       "      <td>47.61412</td>\n",
       "      <td>-122.33664</td>\n",
       "      <td>1926</td>\n",
       "      <td>...</td>\n",
       "      <td>56.0</td>\n",
       "      <td>110.800003</td>\n",
       "      <td>216.199997</td>\n",
       "      <td>6794584.0</td>\n",
       "      <td>2214446.25</td>\n",
       "      <td>2768924.0</td>\n",
       "      <td>1811213.0</td>\n",
       "      <td>286.43</td>\n",
       "      <td>4.67</td>\n",
       "      <td>90</td>\n",
       "    </tr>\n",
       "    <tr>\n",
       "      <th>4</th>\n",
       "      <td>4</td>\n",
       "      <td>8</td>\n",
       "      <td>2016</td>\n",
       "      <td>NonResidential</td>\n",
       "      <td>Hotel</td>\n",
       "      <td>7</td>\n",
       "      <td>DOWNTOWN</td>\n",
       "      <td>47.61375</td>\n",
       "      <td>-122.34047</td>\n",
       "      <td>1980</td>\n",
       "      <td>...</td>\n",
       "      <td>75.0</td>\n",
       "      <td>114.800003</td>\n",
       "      <td>211.399994</td>\n",
       "      <td>14172606.0</td>\n",
       "      <td>0.00</td>\n",
       "      <td>5368607.0</td>\n",
       "      <td>8803998.0</td>\n",
       "      <td>505.01</td>\n",
       "      <td>2.88</td>\n",
       "      <td>36</td>\n",
       "    </tr>\n",
       "  </tbody>\n",
       "</table>\n",
       "<p>5 rows × 31 columns</p>\n",
       "</div>"
      ],
      "text/plain": [
       "   Unnamed: 0  OSEBuildingID  DataYear    BuildingType PrimaryPropertyType  \\\n",
       "0           0              1      2016  NonResidential               Hotel   \n",
       "1           1              2      2016  NonResidential               Hotel   \n",
       "2           2              3      2016  NonResidential               Hotel   \n",
       "3           3              5      2016  NonResidential               Hotel   \n",
       "4           4              8      2016  NonResidential               Hotel   \n",
       "\n",
       "   CouncilDistrictCode Neighborhood  Latitude  Longitude  YearBuilt  ...  \\\n",
       "0                    7     DOWNTOWN  47.61220 -122.33799       1927  ...   \n",
       "1                    7     DOWNTOWN  47.61317 -122.33393       1996  ...   \n",
       "2                    7     DOWNTOWN  47.61393 -122.33810       1969  ...   \n",
       "3                    7     DOWNTOWN  47.61412 -122.33664       1926  ...   \n",
       "4                    7     DOWNTOWN  47.61375 -122.34047       1980  ...   \n",
       "\n",
       "   ENERGYSTARScore  SiteEUI(kBtu/sf)  SourceEUI(kBtu/sf)  SiteEnergyUse(kBtu)  \\\n",
       "0             60.0         81.699997          182.500000            7226362.5   \n",
       "1             61.0         94.800003          176.100006            8387933.0   \n",
       "2             43.0         96.000000          241.899994           72587024.0   \n",
       "3             56.0        110.800003          216.199997            6794584.0   \n",
       "4             75.0        114.800003          211.399994           14172606.0   \n",
       "\n",
       "   SteamUse(kBtu) Electricity(kBtu)  NaturalGas(kBtu) TotalGHGEmissions  \\\n",
       "0      2003882.00         3946027.0         1276453.0            249.98   \n",
       "1            0.00         3242851.0         5145082.0            295.86   \n",
       "2     21566554.00        49526664.0         1493800.0           2089.28   \n",
       "3      2214446.25         2768924.0         1811213.0            286.43   \n",
       "4            0.00         5368607.0         8803998.0            505.01   \n",
       "\n",
       "   GHGEmissionsIntensity BuildingAge  \n",
       "0                   2.83          89  \n",
       "1                   2.86          20  \n",
       "2                   2.19          47  \n",
       "3                   4.67          90  \n",
       "4                   2.88          36  \n",
       "\n",
       "[5 rows x 31 columns]"
      ]
     },
     "execution_count": 2,
     "metadata": {},
     "output_type": "execute_result"
    }
   ],
   "source": [
    "data = pd.read_csv('C:/Users/edenl/Desktop/ia_coding/machine_learning/co2/data/Clean.csv')\n",
    "data.head()"
   ]
  },
  {
   "cell_type": "code",
   "execution_count": 3,
   "id": "add87ff2",
   "metadata": {},
   "outputs": [],
   "source": [
    "data = data.drop(['Unnamed: 0'], axis=1)"
   ]
  },
  {
   "cell_type": "code",
   "execution_count": 4,
   "id": "fbfd3f36",
   "metadata": {},
   "outputs": [],
   "source": [
    "data = data.drop(['ENERGYSTARScore'], axis=1)"
   ]
  },
  {
   "cell_type": "code",
   "execution_count": 5,
   "id": "a65e1ff4",
   "metadata": {},
   "outputs": [],
   "source": [
    "data.dropna(inplace = True)"
   ]
  },
  {
   "cell_type": "code",
   "execution_count": 6,
   "id": "28df4b3d",
   "metadata": {
    "scrolled": false
   },
   "outputs": [
    {
     "data": {
      "text/html": [
       "<div>\n",
       "<style scoped>\n",
       "    .dataframe tbody tr th:only-of-type {\n",
       "        vertical-align: middle;\n",
       "    }\n",
       "\n",
       "    .dataframe tbody tr th {\n",
       "        vertical-align: top;\n",
       "    }\n",
       "\n",
       "    .dataframe thead th {\n",
       "        text-align: right;\n",
       "    }\n",
       "</style>\n",
       "<table border=\"1\" class=\"dataframe\">\n",
       "  <thead>\n",
       "    <tr style=\"text-align: right;\">\n",
       "      <th></th>\n",
       "      <th>OSEBuildingID</th>\n",
       "      <th>DataYear</th>\n",
       "      <th>BuildingType</th>\n",
       "      <th>PrimaryPropertyType</th>\n",
       "      <th>CouncilDistrictCode</th>\n",
       "      <th>Neighborhood</th>\n",
       "      <th>Latitude</th>\n",
       "      <th>Longitude</th>\n",
       "      <th>YearBuilt</th>\n",
       "      <th>NumberofBuildings</th>\n",
       "      <th>...</th>\n",
       "      <th>ThirdLargestPropertyUseTypeGFA</th>\n",
       "      <th>SiteEUI(kBtu/sf)</th>\n",
       "      <th>SourceEUI(kBtu/sf)</th>\n",
       "      <th>SiteEnergyUse(kBtu)</th>\n",
       "      <th>SteamUse(kBtu)</th>\n",
       "      <th>Electricity(kBtu)</th>\n",
       "      <th>NaturalGas(kBtu)</th>\n",
       "      <th>TotalGHGEmissions</th>\n",
       "      <th>GHGEmissionsIntensity</th>\n",
       "      <th>BuildingAge</th>\n",
       "    </tr>\n",
       "  </thead>\n",
       "  <tbody>\n",
       "    <tr>\n",
       "      <th>161</th>\n",
       "      <td>261</td>\n",
       "      <td>2016</td>\n",
       "      <td>Campus</td>\n",
       "      <td>Large Office</td>\n",
       "      <td>1</td>\n",
       "      <td>GREATER DUWAMISH</td>\n",
       "      <td>47.52429</td>\n",
       "      <td>-122.31234</td>\n",
       "      <td>1980</td>\n",
       "      <td>14.0</td>\n",
       "      <td>...</td>\n",
       "      <td>16766.0</td>\n",
       "      <td>159.899994</td>\n",
       "      <td>451.200012</td>\n",
       "      <td>53466684.0</td>\n",
       "      <td>0.0</td>\n",
       "      <td>45321378.0</td>\n",
       "      <td>8145300.0</td>\n",
       "      <td>748.55</td>\n",
       "      <td>2.24</td>\n",
       "      <td>36</td>\n",
       "    </tr>\n",
       "  </tbody>\n",
       "</table>\n",
       "<p>1 rows × 29 columns</p>\n",
       "</div>"
      ],
      "text/plain": [
       "     OSEBuildingID  DataYear BuildingType PrimaryPropertyType  \\\n",
       "161            261      2016       Campus        Large Office   \n",
       "\n",
       "     CouncilDistrictCode      Neighborhood  Latitude  Longitude  YearBuilt  \\\n",
       "161                    1  GREATER DUWAMISH  47.52429 -122.31234       1980   \n",
       "\n",
       "     NumberofBuildings  ...  ThirdLargestPropertyUseTypeGFA  SiteEUI(kBtu/sf)  \\\n",
       "161               14.0  ...                         16766.0        159.899994   \n",
       "\n",
       "     SourceEUI(kBtu/sf)  SiteEnergyUse(kBtu) SteamUse(kBtu)  \\\n",
       "161          451.200012           53466684.0            0.0   \n",
       "\n",
       "     Electricity(kBtu) NaturalGas(kBtu)  TotalGHGEmissions  \\\n",
       "161         45321378.0        8145300.0             748.55   \n",
       "\n",
       "    GHGEmissionsIntensity  BuildingAge  \n",
       "161                  2.24           36  \n",
       "\n",
       "[1 rows x 29 columns]"
      ]
     },
     "execution_count": 6,
     "metadata": {},
     "output_type": "execute_result"
    }
   ],
   "source": [
    "data[data['NumberofBuildings'] > 11]"
   ]
  },
  {
   "cell_type": "code",
   "execution_count": 7,
   "id": "916d24d6",
   "metadata": {},
   "outputs": [
    {
     "data": {
      "text/plain": [
       "OSEBuildingID                        int64\n",
       "DataYear                             int64\n",
       "BuildingType                        object\n",
       "PrimaryPropertyType                 object\n",
       "CouncilDistrictCode                  int64\n",
       "Neighborhood                        object\n",
       "Latitude                           float64\n",
       "Longitude                          float64\n",
       "YearBuilt                            int64\n",
       "NumberofBuildings                  float64\n",
       "NumberofFloors                       int64\n",
       "PropertyGFATotal                     int64\n",
       "PropertyGFAParking                   int64\n",
       "PropertyGFABuilding(s)               int64\n",
       "LargestPropertyUseType              object\n",
       "LargestPropertyUseTypeGFA          float64\n",
       "SecondLargestPropertyUseType        object\n",
       "SecondLargestPropertyUseTypeGFA    float64\n",
       "ThirdLargestPropertyUseType         object\n",
       "ThirdLargestPropertyUseTypeGFA     float64\n",
       "SiteEUI(kBtu/sf)                   float64\n",
       "SourceEUI(kBtu/sf)                 float64\n",
       "SiteEnergyUse(kBtu)                float64\n",
       "SteamUse(kBtu)                     float64\n",
       "Electricity(kBtu)                  float64\n",
       "NaturalGas(kBtu)                   float64\n",
       "TotalGHGEmissions                  float64\n",
       "GHGEmissionsIntensity              float64\n",
       "BuildingAge                          int64\n",
       "dtype: object"
      ]
     },
     "execution_count": 7,
     "metadata": {},
     "output_type": "execute_result"
    }
   ],
   "source": [
    "data.dtypes"
   ]
  },
  {
   "cell_type": "markdown",
   "id": "e15522d2",
   "metadata": {},
   "source": [
    "# Preprocessing"
   ]
  },
  {
   "cell_type": "markdown",
   "id": "9f6f894e",
   "metadata": {
    "heading_collapsed": true
   },
   "source": [
    "## Import Librirairies"
   ]
  },
  {
   "cell_type": "code",
   "execution_count": 8,
   "id": "ce3ba3a8",
   "metadata": {
    "hidden": true
   },
   "outputs": [],
   "source": [
    "from sklearn.compose import make_column_transformer\n",
    "from sklearn.preprocessing import OneHotEncoder\n",
    "from sklearn.preprocessing import LabelEncoder\n",
    "from sklearn.preprocessing import StandardScaler\n",
    "from sklearn.preprocessing import RobustScaler\n",
    "from sklearn.pipeline import make_pipeline\n",
    "from sklearn.linear_model import LinearRegression\n",
    "from sklearn.model_selection import cross_val_score\n",
    "from scikitplot.estimators import plot_learning_curve\n",
    "from sklearn import model_selection"
   ]
  },
  {
   "cell_type": "markdown",
   "id": "7f0454cb",
   "metadata": {},
   "source": [
    "## Feature Selection"
   ]
  },
  {
   "cell_type": "code",
   "execution_count": 12,
   "id": "c2eb6aa7",
   "metadata": {},
   "outputs": [],
   "source": [
    "features_cat = list(data.select_dtypes(include=['object']))\n",
    "\n",
    "features_num = ['OSEBuildingID', 'CouncilDistrictCode',  'NumberofFloors','PropertyGFATotal', 'PropertyGFAParking', \n",
    "                'PropertyGFABuilding(s)', 'BuildingAge']\n",
    "\n",
    "to_predict = ['SiteEnergyUse(kBtu)', 'TotalGHGEmissions']"
   ]
  },
  {
   "cell_type": "markdown",
   "id": "aa499e66",
   "metadata": {},
   "source": [
    "## Standardisation et encodage des features"
   ]
  },
  {
   "cell_type": "code",
   "execution_count": 13,
   "id": "7e8edc29",
   "metadata": {
    "scrolled": true
   },
   "outputs": [],
   "source": [
    "column_trans = make_column_transformer(\n",
    "    (OneHotEncoder(), features_cat),  # encodage\n",
    "    (StandardScaler(), features_num), # standardisation\n",
    "    remainder='passthrough')\n",
    "\n",
    "y = data['TotalGHGEmissions'].values\n",
    "X = column_trans.fit_transform(data[features_cat + features_num])"
   ]
  },
  {
   "cell_type": "code",
   "execution_count": null,
   "id": "735b176b",
   "metadata": {},
   "outputs": [],
   "source": [
    "\n"
   ]
  },
  {
   "cell_type": "code",
   "execution_count": 11,
   "id": "ba3abdc5",
   "metadata": {
    "scrolled": true
   },
   "outputs": [
    {
     "data": {
      "text/html": [
       "<div>\n",
       "<style scoped>\n",
       "    .dataframe tbody tr th:only-of-type {\n",
       "        vertical-align: middle;\n",
       "    }\n",
       "\n",
       "    .dataframe tbody tr th {\n",
       "        vertical-align: top;\n",
       "    }\n",
       "\n",
       "    .dataframe thead th {\n",
       "        text-align: right;\n",
       "    }\n",
       "</style>\n",
       "<table border=\"1\" class=\"dataframe\">\n",
       "  <thead>\n",
       "    <tr style=\"text-align: right;\">\n",
       "      <th></th>\n",
       "      <th>OSEBuildingID</th>\n",
       "      <th>DataYear</th>\n",
       "      <th>BuildingType</th>\n",
       "      <th>PrimaryPropertyType</th>\n",
       "      <th>CouncilDistrictCode</th>\n",
       "      <th>Neighborhood</th>\n",
       "      <th>Latitude</th>\n",
       "      <th>Longitude</th>\n",
       "      <th>YearBuilt</th>\n",
       "      <th>NumberofBuildings</th>\n",
       "      <th>...</th>\n",
       "      <th>ThirdLargestPropertyUseTypeGFA</th>\n",
       "      <th>SiteEUI(kBtu/sf)</th>\n",
       "      <th>SourceEUI(kBtu/sf)</th>\n",
       "      <th>SiteEnergyUse(kBtu)</th>\n",
       "      <th>SteamUse(kBtu)</th>\n",
       "      <th>Electricity(kBtu)</th>\n",
       "      <th>NaturalGas(kBtu)</th>\n",
       "      <th>TotalGHGEmissions</th>\n",
       "      <th>GHGEmissionsIntensity</th>\n",
       "      <th>BuildingAge</th>\n",
       "    </tr>\n",
       "  </thead>\n",
       "  <tbody>\n",
       "    <tr>\n",
       "      <th>1</th>\n",
       "      <td>2</td>\n",
       "      <td>2016</td>\n",
       "      <td>NonResidential</td>\n",
       "      <td>Hotel</td>\n",
       "      <td>7</td>\n",
       "      <td>DOWNTOWN</td>\n",
       "      <td>47.61317</td>\n",
       "      <td>-122.33393</td>\n",
       "      <td>1996</td>\n",
       "      <td>1.0</td>\n",
       "      <td>...</td>\n",
       "      <td>4622.0</td>\n",
       "      <td>94.800003</td>\n",
       "      <td>176.100006</td>\n",
       "      <td>8.387933e+06</td>\n",
       "      <td>0.000</td>\n",
       "      <td>3.242851e+06</td>\n",
       "      <td>5.145082e+06</td>\n",
       "      <td>295.86</td>\n",
       "      <td>2.86</td>\n",
       "      <td>20</td>\n",
       "    </tr>\n",
       "    <tr>\n",
       "      <th>4</th>\n",
       "      <td>8</td>\n",
       "      <td>2016</td>\n",
       "      <td>NonResidential</td>\n",
       "      <td>Hotel</td>\n",
       "      <td>7</td>\n",
       "      <td>DOWNTOWN</td>\n",
       "      <td>47.61375</td>\n",
       "      <td>-122.34047</td>\n",
       "      <td>1980</td>\n",
       "      <td>1.0</td>\n",
       "      <td>...</td>\n",
       "      <td>0.0</td>\n",
       "      <td>114.800003</td>\n",
       "      <td>211.399994</td>\n",
       "      <td>1.417261e+07</td>\n",
       "      <td>0.000</td>\n",
       "      <td>5.368607e+06</td>\n",
       "      <td>8.803998e+06</td>\n",
       "      <td>505.01</td>\n",
       "      <td>2.88</td>\n",
       "      <td>36</td>\n",
       "    </tr>\n",
       "    <tr>\n",
       "      <th>14</th>\n",
       "      <td>21</td>\n",
       "      <td>2016</td>\n",
       "      <td>Nonresidential COS</td>\n",
       "      <td>Other</td>\n",
       "      <td>7</td>\n",
       "      <td>DOWNTOWN</td>\n",
       "      <td>47.60649</td>\n",
       "      <td>-122.33297</td>\n",
       "      <td>2004</td>\n",
       "      <td>1.0</td>\n",
       "      <td>...</td>\n",
       "      <td>1074.0</td>\n",
       "      <td>50.799999</td>\n",
       "      <td>155.600006</td>\n",
       "      <td>1.858886e+07</td>\n",
       "      <td>737559.500</td>\n",
       "      <td>1.785130e+07</td>\n",
       "      <td>0.000000e+00</td>\n",
       "      <td>181.38</td>\n",
       "      <td>0.44</td>\n",
       "      <td>12</td>\n",
       "    </tr>\n",
       "    <tr>\n",
       "      <th>15</th>\n",
       "      <td>22</td>\n",
       "      <td>2016</td>\n",
       "      <td>NonResidential</td>\n",
       "      <td>Other</td>\n",
       "      <td>7</td>\n",
       "      <td>DOWNTOWN</td>\n",
       "      <td>47.60546</td>\n",
       "      <td>-122.33279</td>\n",
       "      <td>1930</td>\n",
       "      <td>1.0</td>\n",
       "      <td>...</td>\n",
       "      <td>0.0</td>\n",
       "      <td>76.599998</td>\n",
       "      <td>157.399994</td>\n",
       "      <td>9.956396e+06</td>\n",
       "      <td>4592347.500</td>\n",
       "      <td>4.453868e+06</td>\n",
       "      <td>9.101800e+05</td>\n",
       "      <td>433.86</td>\n",
       "      <td>4.18</td>\n",
       "      <td>86</td>\n",
       "    </tr>\n",
       "    <tr>\n",
       "      <th>17</th>\n",
       "      <td>24</td>\n",
       "      <td>2016</td>\n",
       "      <td>NonResidential</td>\n",
       "      <td>Mixed Use Property</td>\n",
       "      <td>7</td>\n",
       "      <td>DOWNTOWN</td>\n",
       "      <td>47.60515</td>\n",
       "      <td>-122.33159</td>\n",
       "      <td>1907</td>\n",
       "      <td>1.0</td>\n",
       "      <td>...</td>\n",
       "      <td>9741.0</td>\n",
       "      <td>132.399994</td>\n",
       "      <td>280.700012</td>\n",
       "      <td>7.606084e+06</td>\n",
       "      <td>1776201.875</td>\n",
       "      <td>3.764791e+06</td>\n",
       "      <td>2.065091e+06</td>\n",
       "      <td>273.02</td>\n",
       "      <td>4.75</td>\n",
       "      <td>109</td>\n",
       "    </tr>\n",
       "    <tr>\n",
       "      <th>...</th>\n",
       "      <td>...</td>\n",
       "      <td>...</td>\n",
       "      <td>...</td>\n",
       "      <td>...</td>\n",
       "      <td>...</td>\n",
       "      <td>...</td>\n",
       "      <td>...</td>\n",
       "      <td>...</td>\n",
       "      <td>...</td>\n",
       "      <td>...</td>\n",
       "      <td>...</td>\n",
       "      <td>...</td>\n",
       "      <td>...</td>\n",
       "      <td>...</td>\n",
       "      <td>...</td>\n",
       "      <td>...</td>\n",
       "      <td>...</td>\n",
       "      <td>...</td>\n",
       "      <td>...</td>\n",
       "      <td>...</td>\n",
       "      <td>...</td>\n",
       "    </tr>\n",
       "    <tr>\n",
       "      <th>1657</th>\n",
       "      <td>50208</td>\n",
       "      <td>2016</td>\n",
       "      <td>Nonresidential COS</td>\n",
       "      <td>Other</td>\n",
       "      <td>6</td>\n",
       "      <td>BALLARD</td>\n",
       "      <td>47.67734</td>\n",
       "      <td>-122.37624</td>\n",
       "      <td>1972</td>\n",
       "      <td>1.0</td>\n",
       "      <td>...</td>\n",
       "      <td>187.0</td>\n",
       "      <td>400.799988</td>\n",
       "      <td>618.099976</td>\n",
       "      <td>5.117308e+06</td>\n",
       "      <td>0.000</td>\n",
       "      <td>1.205173e+06</td>\n",
       "      <td>3.912135e+06</td>\n",
       "      <td>216.18</td>\n",
       "      <td>16.93</td>\n",
       "      <td>44</td>\n",
       "    </tr>\n",
       "    <tr>\n",
       "      <th>1660</th>\n",
       "      <td>50219</td>\n",
       "      <td>2016</td>\n",
       "      <td>Nonresidential COS</td>\n",
       "      <td>Mixed Use Property</td>\n",
       "      <td>3</td>\n",
       "      <td>CENTRAL</td>\n",
       "      <td>47.60775</td>\n",
       "      <td>-122.30225</td>\n",
       "      <td>1994</td>\n",
       "      <td>1.0</td>\n",
       "      <td>...</td>\n",
       "      <td>3779.0</td>\n",
       "      <td>90.400002</td>\n",
       "      <td>175.199997</td>\n",
       "      <td>1.813404e+06</td>\n",
       "      <td>0.000</td>\n",
       "      <td>7.694531e+05</td>\n",
       "      <td>1.043951e+06</td>\n",
       "      <td>60.81</td>\n",
       "      <td>3.03</td>\n",
       "      <td>22</td>\n",
       "    </tr>\n",
       "    <tr>\n",
       "      <th>1665</th>\n",
       "      <td>50224</td>\n",
       "      <td>2016</td>\n",
       "      <td>Nonresidential COS</td>\n",
       "      <td>Other</td>\n",
       "      <td>7</td>\n",
       "      <td>MAGNOLIA / QUEEN ANNE</td>\n",
       "      <td>47.63644</td>\n",
       "      <td>-122.35784</td>\n",
       "      <td>1974</td>\n",
       "      <td>1.0</td>\n",
       "      <td>...</td>\n",
       "      <td>0.0</td>\n",
       "      <td>438.200012</td>\n",
       "      <td>744.799988</td>\n",
       "      <td>5.765898e+06</td>\n",
       "      <td>0.000</td>\n",
       "      <td>1.792159e+06</td>\n",
       "      <td>3.973739e+06</td>\n",
       "      <td>223.54</td>\n",
       "      <td>16.99</td>\n",
       "      <td>42</td>\n",
       "    </tr>\n",
       "    <tr>\n",
       "      <th>1666</th>\n",
       "      <td>50225</td>\n",
       "      <td>2016</td>\n",
       "      <td>Nonresidential COS</td>\n",
       "      <td>Mixed Use Property</td>\n",
       "      <td>1</td>\n",
       "      <td>GREATER DUWAMISH</td>\n",
       "      <td>47.52832</td>\n",
       "      <td>-122.32431</td>\n",
       "      <td>1989</td>\n",
       "      <td>1.0</td>\n",
       "      <td>...</td>\n",
       "      <td>484.0</td>\n",
       "      <td>51.000000</td>\n",
       "      <td>105.300003</td>\n",
       "      <td>7.194712e+05</td>\n",
       "      <td>0.000</td>\n",
       "      <td>3.488702e+05</td>\n",
       "      <td>3.706010e+05</td>\n",
       "      <td>22.11</td>\n",
       "      <td>1.57</td>\n",
       "      <td>27</td>\n",
       "    </tr>\n",
       "    <tr>\n",
       "      <th>1667</th>\n",
       "      <td>50226</td>\n",
       "      <td>2016</td>\n",
       "      <td>Nonresidential COS</td>\n",
       "      <td>Mixed Use Property</td>\n",
       "      <td>2</td>\n",
       "      <td>GREATER DUWAMISH</td>\n",
       "      <td>47.53939</td>\n",
       "      <td>-122.29536</td>\n",
       "      <td>1938</td>\n",
       "      <td>1.0</td>\n",
       "      <td>...</td>\n",
       "      <td>1108.0</td>\n",
       "      <td>63.099998</td>\n",
       "      <td>115.800003</td>\n",
       "      <td>1.152896e+06</td>\n",
       "      <td>0.000</td>\n",
       "      <td>4.325542e+05</td>\n",
       "      <td>7.203420e+05</td>\n",
       "      <td>41.27</td>\n",
       "      <td>2.26</td>\n",
       "      <td>78</td>\n",
       "    </tr>\n",
       "  </tbody>\n",
       "</table>\n",
       "<p>353 rows × 29 columns</p>\n",
       "</div>"
      ],
      "text/plain": [
       "      OSEBuildingID  DataYear        BuildingType PrimaryPropertyType  \\\n",
       "1                 2      2016      NonResidential               Hotel   \n",
       "4                 8      2016      NonResidential               Hotel   \n",
       "14               21      2016  Nonresidential COS               Other   \n",
       "15               22      2016      NonResidential               Other   \n",
       "17               24      2016      NonResidential  Mixed Use Property   \n",
       "...             ...       ...                 ...                 ...   \n",
       "1657          50208      2016  Nonresidential COS               Other   \n",
       "1660          50219      2016  Nonresidential COS  Mixed Use Property   \n",
       "1665          50224      2016  Nonresidential COS               Other   \n",
       "1666          50225      2016  Nonresidential COS  Mixed Use Property   \n",
       "1667          50226      2016  Nonresidential COS  Mixed Use Property   \n",
       "\n",
       "      CouncilDistrictCode           Neighborhood  Latitude  Longitude  \\\n",
       "1                       7               DOWNTOWN  47.61317 -122.33393   \n",
       "4                       7               DOWNTOWN  47.61375 -122.34047   \n",
       "14                      7               DOWNTOWN  47.60649 -122.33297   \n",
       "15                      7               DOWNTOWN  47.60546 -122.33279   \n",
       "17                      7               DOWNTOWN  47.60515 -122.33159   \n",
       "...                   ...                    ...       ...        ...   \n",
       "1657                    6                BALLARD  47.67734 -122.37624   \n",
       "1660                    3                CENTRAL  47.60775 -122.30225   \n",
       "1665                    7  MAGNOLIA / QUEEN ANNE  47.63644 -122.35784   \n",
       "1666                    1       GREATER DUWAMISH  47.52832 -122.32431   \n",
       "1667                    2       GREATER DUWAMISH  47.53939 -122.29536   \n",
       "\n",
       "      YearBuilt  NumberofBuildings  ...  ThirdLargestPropertyUseTypeGFA  \\\n",
       "1          1996                1.0  ...                          4622.0   \n",
       "4          1980                1.0  ...                             0.0   \n",
       "14         2004                1.0  ...                          1074.0   \n",
       "15         1930                1.0  ...                             0.0   \n",
       "17         1907                1.0  ...                          9741.0   \n",
       "...         ...                ...  ...                             ...   \n",
       "1657       1972                1.0  ...                           187.0   \n",
       "1660       1994                1.0  ...                          3779.0   \n",
       "1665       1974                1.0  ...                             0.0   \n",
       "1666       1989                1.0  ...                           484.0   \n",
       "1667       1938                1.0  ...                          1108.0   \n",
       "\n",
       "      SiteEUI(kBtu/sf)  SourceEUI(kBtu/sf)  SiteEnergyUse(kBtu)  \\\n",
       "1            94.800003          176.100006         8.387933e+06   \n",
       "4           114.800003          211.399994         1.417261e+07   \n",
       "14           50.799999          155.600006         1.858886e+07   \n",
       "15           76.599998          157.399994         9.956396e+06   \n",
       "17          132.399994          280.700012         7.606084e+06   \n",
       "...                ...                 ...                  ...   \n",
       "1657        400.799988          618.099976         5.117308e+06   \n",
       "1660         90.400002          175.199997         1.813404e+06   \n",
       "1665        438.200012          744.799988         5.765898e+06   \n",
       "1666         51.000000          105.300003         7.194712e+05   \n",
       "1667         63.099998          115.800003         1.152896e+06   \n",
       "\n",
       "     SteamUse(kBtu)  Electricity(kBtu) NaturalGas(kBtu)  TotalGHGEmissions  \\\n",
       "1             0.000       3.242851e+06     5.145082e+06             295.86   \n",
       "4             0.000       5.368607e+06     8.803998e+06             505.01   \n",
       "14       737559.500       1.785130e+07     0.000000e+00             181.38   \n",
       "15      4592347.500       4.453868e+06     9.101800e+05             433.86   \n",
       "17      1776201.875       3.764791e+06     2.065091e+06             273.02   \n",
       "...             ...                ...              ...                ...   \n",
       "1657          0.000       1.205173e+06     3.912135e+06             216.18   \n",
       "1660          0.000       7.694531e+05     1.043951e+06              60.81   \n",
       "1665          0.000       1.792159e+06     3.973739e+06             223.54   \n",
       "1666          0.000       3.488702e+05     3.706010e+05              22.11   \n",
       "1667          0.000       4.325542e+05     7.203420e+05              41.27   \n",
       "\n",
       "     GHGEmissionsIntensity  BuildingAge  \n",
       "1                     2.86           20  \n",
       "4                     2.88           36  \n",
       "14                    0.44           12  \n",
       "15                    4.18           86  \n",
       "17                    4.75          109  \n",
       "...                    ...          ...  \n",
       "1657                 16.93           44  \n",
       "1660                  3.03           22  \n",
       "1665                 16.99           42  \n",
       "1666                  1.57           27  \n",
       "1667                  2.26           78  \n",
       "\n",
       "[353 rows x 29 columns]"
      ]
     },
     "execution_count": 11,
     "metadata": {},
     "output_type": "execute_result"
    }
   ],
   "source": [
    "data"
   ]
  },
  {
   "cell_type": "code",
   "execution_count": null,
   "id": "b53f8943",
   "metadata": {},
   "outputs": [],
   "source": [
    "t = data.to_csv(\"test.csv\")"
   ]
  },
  {
   "cell_type": "markdown",
   "id": "e199d539",
   "metadata": {},
   "source": [
    "## Echantillonnage "
   ]
  },
  {
   "cell_type": "code",
   "execution_count": 14,
   "id": "bc07e5ce",
   "metadata": {},
   "outputs": [
    {
     "name": "stdout",
     "output_type": "stream",
     "text": [
      "La taille de données d'entrainement : 282\n",
      "La taille de données d'entrainement : 71\n"
     ]
    }
   ],
   "source": [
    "# Séparons nos données en un jeu de test et un jeu d'entraînement :\n",
    "X_train, X_test, y_train, y_test = model_selection.train_test_split(\n",
    "    X, y, test_size=0.2, random_state = 42)  # 20% des données dans le jeu de test\n",
    "\n",
    "print(f\"La taille de données d'entrainement : {X_train.shape[0]}\")\n",
    "print(f\"La taille de données d'entrainement : {X_test.shape[0]}\")"
   ]
  },
  {
   "cell_type": "markdown",
   "id": "01ad839e",
   "metadata": {},
   "source": [
    "# Modèles "
   ]
  },
  {
   "cell_type": "markdown",
   "id": "121b7f5b",
   "metadata": {},
   "source": [
    "## Import Librairies"
   ]
  },
  {
   "cell_type": "code",
   "execution_count": 15,
   "id": "d3f8f377",
   "metadata": {},
   "outputs": [],
   "source": [
    "# Chargement des librairies\n",
    "\n",
    "# Algorithmes simples\n",
    "from sklearn.linear_model import LinearRegression\n",
    "from sklearn.linear_model import Ridge\n",
    "from sklearn.linear_model import Lasso\n",
    "from sklearn.linear_model import ElasticNet\n",
    "from sklearn.svm import SVR\n",
    "from sklearn.svm import LinearSVR\n",
    "from sklearn.neighbors import KNeighborsRegressor\n",
    "from sklearn.tree import DecisionTreeRegressor\n",
    "\n",
    "# Algorithmes ensemblistes\n",
    "from sklearn.ensemble import RandomForestRegressor\n",
    "from sklearn.ensemble import GradientBoostingRegressor\n",
    "from sklearn.ensemble import AdaBoostRegressor\n",
    "\n",
    "# Utiles\n",
    "from sklearn.model_selection import train_test_split\n",
    "from sklearn.model_selection import cross_val_score\n",
    "from sklearn.model_selection import GridSearchCV\n",
    "from sklearn.dummy import DummyRegressor\n",
    "from sklearn.pipeline import Pipeline\n",
    "\n",
    "# Normalisation\n",
    "from sklearn.preprocessing import StandardScaler\n",
    "from sklearn.preprocessing import RobustScaler\n",
    "\n",
    "# Scoring\n",
    "from sklearn import metrics\n",
    "from sklearn.metrics import mean_squared_error\n",
    "from sklearn.metrics import r2_score\n",
    "\n",
    "from sklearn import preprocessing\n",
    "from sklearn.preprocessing import StandardScaler\n",
    "\n",
    "#import warnings\n",
    "#warnings.filterwarnings('ignore')"
   ]
  },
  {
   "cell_type": "markdown",
   "id": "fc95675d",
   "metadata": {},
   "source": [
    "## Métriques"
   ]
  },
  {
   "cell_type": "code",
   "execution_count": 16,
   "id": "5362ec1d",
   "metadata": {},
   "outputs": [],
   "source": [
    "def score (modele, R2, RMSE, MAE):\n",
    "    df_scores.loc[df_scores.shape[0]] = [modele, R2, RMSE, MAE]\n",
    "    df_scores.sort_values(by='R2', ascending=False, inplace=True)\n",
    "    df_scores.drop_duplicates(subset=['modele'], keep='last', inplace=True)\n",
    "    df_scores.reset_index(drop=True, inplace=True)\n",
    "    return df_scores"
   ]
  },
  {
   "cell_type": "code",
   "execution_count": 17,
   "id": "1ebe1599",
   "metadata": {},
   "outputs": [],
   "source": [
    "scores = []\n",
    "df_scores = pd.DataFrame(\n",
    "    scores, columns=['modele', 'R2', 'RMSE', 'MAE'])"
   ]
  },
  {
   "cell_type": "markdown",
   "id": "8d29ebfa",
   "metadata": {},
   "source": [
    "## Linear Regression"
   ]
  },
  {
   "cell_type": "code",
   "execution_count": 18,
   "id": "31cbc9d1",
   "metadata": {
    "scrolled": true
   },
   "outputs": [],
   "source": [
    "lin_reg = LinearRegression()\n",
    "lin_reg.fit(X_train, y_train)\n",
    "y_pred_lr = lin_reg.predict(X_test)"
   ]
  },
  {
   "cell_type": "code",
   "execution_count": 19,
   "id": "2b3c4288",
   "metadata": {
    "scrolled": true
   },
   "outputs": [
    {
     "name": "stdout",
     "output_type": "stream",
     "text": [
      "R2_score : -22.0940\n"
     ]
    }
   ],
   "source": [
    "# Prediction score :\n",
    "print(\"R2_score : {:.4f}\".format(r2_score(y_test, y_pred_lr)))"
   ]
  },
  {
   "cell_type": "code",
   "execution_count": 20,
   "id": "9c22a6e5",
   "metadata": {
    "scrolled": true
   },
   "outputs": [],
   "source": [
    "parametres_LR = {}\n",
    "\n",
    "# On crée un modèle de régression linéaire\n",
    "# On entraîne ce modèle sur les données d'entrainement\n",
    "grid_LR = GridSearchCV(LinearRegression(),\n",
    "                       parametres_LR,\n",
    "                       scoring='r2',\n",
    "                       cv=5)\n",
    "modele_LR = grid_LR.fit(X_train, y_train)\n",
    "y_pred_LR = grid_LR.predict(X_test)"
   ]
  },
  {
   "cell_type": "code",
   "execution_count": 21,
   "id": "81b20ca4",
   "metadata": {
    "scrolled": false
   },
   "outputs": [
    {
     "name": "stdout",
     "output_type": "stream",
     "text": [
      "{}\n"
     ]
    },
    {
     "data": {
      "text/html": [
       "<div>\n",
       "<style scoped>\n",
       "    .dataframe tbody tr th:only-of-type {\n",
       "        vertical-align: middle;\n",
       "    }\n",
       "\n",
       "    .dataframe tbody tr th {\n",
       "        vertical-align: top;\n",
       "    }\n",
       "\n",
       "    .dataframe thead th {\n",
       "        text-align: right;\n",
       "    }\n",
       "</style>\n",
       "<table border=\"1\" class=\"dataframe\">\n",
       "  <thead>\n",
       "    <tr style=\"text-align: right;\">\n",
       "      <th></th>\n",
       "      <th>modele</th>\n",
       "      <th>R2</th>\n",
       "      <th>RMSE</th>\n",
       "      <th>MAE</th>\n",
       "    </tr>\n",
       "  </thead>\n",
       "  <tbody>\n",
       "    <tr>\n",
       "      <th>0</th>\n",
       "      <td>Linear Regression</td>\n",
       "      <td>-22.094001</td>\n",
       "      <td>1008.947</td>\n",
       "      <td>20.326</td>\n",
       "    </tr>\n",
       "  </tbody>\n",
       "</table>\n",
       "</div>"
      ],
      "text/plain": [
       "              modele         R2      RMSE     MAE\n",
       "0  Linear Regression -22.094001  1008.947  20.326"
      ]
     },
     "execution_count": 21,
     "metadata": {},
     "output_type": "execute_result"
    }
   ],
   "source": [
    "# Affichage des scores\n",
    "r2_LR = r2_score(y_test, y_pred_LR)\n",
    "rmse_LR = round(np.sqrt(metrics.mean_squared_error(y_test, y_pred_LR)), 3)\n",
    "mae_LR = round(np.sqrt(metrics.median_absolute_error(y_test, y_pred_LR)), 3)\n",
    "\n",
    "# Les meilleur parametres\n",
    "print(grid_LR.best_params_)\n",
    "\n",
    "# Ajoute à la liste des scores\n",
    "score('Linear Regression', r2_LR, rmse_LR, mae_LR)"
   ]
  },
  {
   "cell_type": "code",
   "execution_count": 22,
   "id": "18375599",
   "metadata": {},
   "outputs": [],
   "source": [
    "from sklearn.metrics import classification_report"
   ]
  },
  {
   "cell_type": "code",
   "execution_count": 23,
   "id": "f535362a",
   "metadata": {},
   "outputs": [
    {
     "ename": "ValueError",
     "evalue": "continuous is not supported",
     "output_type": "error",
     "traceback": [
      "\u001b[1;31m---------------------------------------------------------------------------\u001b[0m",
      "\u001b[1;31mValueError\u001b[0m                                Traceback (most recent call last)",
      "\u001b[1;32m<ipython-input-23-59c437485d02>\u001b[0m in \u001b[0;36m<module>\u001b[1;34m\u001b[0m\n\u001b[1;32m----> 1\u001b[1;33m \u001b[0mprint\u001b[0m\u001b[1;33m(\u001b[0m\u001b[0mclassification_report\u001b[0m\u001b[1;33m(\u001b[0m\u001b[0my_test\u001b[0m\u001b[1;33m,\u001b[0m \u001b[0my_pred_LR\u001b[0m\u001b[1;33m)\u001b[0m\u001b[1;33m)\u001b[0m\u001b[1;33m\u001b[0m\u001b[1;33m\u001b[0m\u001b[0m\n\u001b[0m",
      "\u001b[1;32m~\\anaconda3\\lib\\site-packages\\sklearn\\utils\\validation.py\u001b[0m in \u001b[0;36minner_f\u001b[1;34m(*args, **kwargs)\u001b[0m\n\u001b[0;32m     61\u001b[0m             \u001b[0mextra_args\u001b[0m \u001b[1;33m=\u001b[0m \u001b[0mlen\u001b[0m\u001b[1;33m(\u001b[0m\u001b[0margs\u001b[0m\u001b[1;33m)\u001b[0m \u001b[1;33m-\u001b[0m \u001b[0mlen\u001b[0m\u001b[1;33m(\u001b[0m\u001b[0mall_args\u001b[0m\u001b[1;33m)\u001b[0m\u001b[1;33m\u001b[0m\u001b[1;33m\u001b[0m\u001b[0m\n\u001b[0;32m     62\u001b[0m             \u001b[1;32mif\u001b[0m \u001b[0mextra_args\u001b[0m \u001b[1;33m<=\u001b[0m \u001b[1;36m0\u001b[0m\u001b[1;33m:\u001b[0m\u001b[1;33m\u001b[0m\u001b[1;33m\u001b[0m\u001b[0m\n\u001b[1;32m---> 63\u001b[1;33m                 \u001b[1;32mreturn\u001b[0m \u001b[0mf\u001b[0m\u001b[1;33m(\u001b[0m\u001b[1;33m*\u001b[0m\u001b[0margs\u001b[0m\u001b[1;33m,\u001b[0m \u001b[1;33m**\u001b[0m\u001b[0mkwargs\u001b[0m\u001b[1;33m)\u001b[0m\u001b[1;33m\u001b[0m\u001b[1;33m\u001b[0m\u001b[0m\n\u001b[0m\u001b[0;32m     64\u001b[0m \u001b[1;33m\u001b[0m\u001b[0m\n\u001b[0;32m     65\u001b[0m             \u001b[1;31m# extra_args > 0\u001b[0m\u001b[1;33m\u001b[0m\u001b[1;33m\u001b[0m\u001b[1;33m\u001b[0m\u001b[0m\n",
      "\u001b[1;32m~\\anaconda3\\lib\\site-packages\\sklearn\\metrics\\_classification.py\u001b[0m in \u001b[0;36mclassification_report\u001b[1;34m(y_true, y_pred, labels, target_names, sample_weight, digits, output_dict, zero_division)\u001b[0m\n\u001b[0;32m   1964\u001b[0m     \"\"\"\n\u001b[0;32m   1965\u001b[0m \u001b[1;33m\u001b[0m\u001b[0m\n\u001b[1;32m-> 1966\u001b[1;33m     \u001b[0my_type\u001b[0m\u001b[1;33m,\u001b[0m \u001b[0my_true\u001b[0m\u001b[1;33m,\u001b[0m \u001b[0my_pred\u001b[0m \u001b[1;33m=\u001b[0m \u001b[0m_check_targets\u001b[0m\u001b[1;33m(\u001b[0m\u001b[0my_true\u001b[0m\u001b[1;33m,\u001b[0m \u001b[0my_pred\u001b[0m\u001b[1;33m)\u001b[0m\u001b[1;33m\u001b[0m\u001b[1;33m\u001b[0m\u001b[0m\n\u001b[0m\u001b[0;32m   1967\u001b[0m \u001b[1;33m\u001b[0m\u001b[0m\n\u001b[0;32m   1968\u001b[0m     \u001b[1;32mif\u001b[0m \u001b[0mlabels\u001b[0m \u001b[1;32mis\u001b[0m \u001b[1;32mNone\u001b[0m\u001b[1;33m:\u001b[0m\u001b[1;33m\u001b[0m\u001b[1;33m\u001b[0m\u001b[0m\n",
      "\u001b[1;32m~\\anaconda3\\lib\\site-packages\\sklearn\\metrics\\_classification.py\u001b[0m in \u001b[0;36m_check_targets\u001b[1;34m(y_true, y_pred)\u001b[0m\n\u001b[0;32m     98\u001b[0m     \u001b[1;31m# No metrics support \"multiclass-multioutput\" format\u001b[0m\u001b[1;33m\u001b[0m\u001b[1;33m\u001b[0m\u001b[1;33m\u001b[0m\u001b[0m\n\u001b[0;32m     99\u001b[0m     \u001b[1;32mif\u001b[0m \u001b[1;33m(\u001b[0m\u001b[0my_type\u001b[0m \u001b[1;32mnot\u001b[0m \u001b[1;32min\u001b[0m \u001b[1;33m[\u001b[0m\u001b[1;34m\"binary\"\u001b[0m\u001b[1;33m,\u001b[0m \u001b[1;34m\"multiclass\"\u001b[0m\u001b[1;33m,\u001b[0m \u001b[1;34m\"multilabel-indicator\"\u001b[0m\u001b[1;33m]\u001b[0m\u001b[1;33m)\u001b[0m\u001b[1;33m:\u001b[0m\u001b[1;33m\u001b[0m\u001b[1;33m\u001b[0m\u001b[0m\n\u001b[1;32m--> 100\u001b[1;33m         \u001b[1;32mraise\u001b[0m \u001b[0mValueError\u001b[0m\u001b[1;33m(\u001b[0m\u001b[1;34m\"{0} is not supported\"\u001b[0m\u001b[1;33m.\u001b[0m\u001b[0mformat\u001b[0m\u001b[1;33m(\u001b[0m\u001b[0my_type\u001b[0m\u001b[1;33m)\u001b[0m\u001b[1;33m)\u001b[0m\u001b[1;33m\u001b[0m\u001b[1;33m\u001b[0m\u001b[0m\n\u001b[0m\u001b[0;32m    101\u001b[0m \u001b[1;33m\u001b[0m\u001b[0m\n\u001b[0;32m    102\u001b[0m     \u001b[1;32mif\u001b[0m \u001b[0my_type\u001b[0m \u001b[1;32min\u001b[0m \u001b[1;33m[\u001b[0m\u001b[1;34m\"binary\"\u001b[0m\u001b[1;33m,\u001b[0m \u001b[1;34m\"multiclass\"\u001b[0m\u001b[1;33m]\u001b[0m\u001b[1;33m:\u001b[0m\u001b[1;33m\u001b[0m\u001b[1;33m\u001b[0m\u001b[0m\n",
      "\u001b[1;31mValueError\u001b[0m: continuous is not supported"
     ]
    }
   ],
   "source": [
    "print(classification_report(y_test, y_pred_LR))"
   ]
  },
  {
   "cell_type": "markdown",
   "id": "86632512",
   "metadata": {},
   "source": [
    "## KNN"
   ]
  },
  {
   "cell_type": "code",
   "execution_count": null,
   "id": "a6feaf23",
   "metadata": {},
   "outputs": [],
   "source": [
    "parametres_kNN = {\n",
    "    'n_neighbors': np.arange(1, 30),\n",
    "    'metric': ['euclidean', 'manhattan', 'minkowski']\n",
    "    \n",
    "}\n",
    "\n",
    "# On entraîne ce modèle sur les données d'entrainement\n",
    "grid_KNN = GridSearchCV(KNeighborsRegressor(), parametres_kNN, cv=5)\n",
    "grid_KNN.fit(X_train, y_train)\n",
    "y_pred_KNN = grid_KNN.predict(X_test)"
   ]
  },
  {
   "cell_type": "code",
   "execution_count": null,
   "id": "05d07c9c",
   "metadata": {},
   "outputs": [],
   "source": [
    "# Affichage des scores\n",
    "r2_KNN = round(r2_score(y_test, y_pred_KNN), 3)\n",
    "rmse_KNN = round(np.sqrt(metrics.mean_squared_error(y_test, y_pred_KNN)), 3)\n",
    "mae_KNN = round(np.sqrt(metrics.median_absolute_error(y_test, y_pred_KNN)), 3)\n",
    "\n",
    "# Les meilleur parametres\n",
    "print(grid_KNN.best_params_)\n",
    "\n",
    "# Ajoute à la liste des scores\n",
    "score('K Neighbors Regressor', r2_KNN, rmse_KNN, mae_KNN)"
   ]
  },
  {
   "cell_type": "markdown",
   "id": "0fed7941",
   "metadata": {},
   "source": [
    "## Decision Tree"
   ]
  },
  {
   "cell_type": "code",
   "execution_count": null,
   "id": "d946ee35",
   "metadata": {},
   "outputs": [],
   "source": [
    "parameters_DT = {\n",
    "    # \"splitter\": [\"best\", \"random\"],\n",
    "    \"max_depth\": [1, 3, 5, 7, 9, 11, 12],\n",
    "    \"max_features\": [\"auto\", \"log2\", None],\n",
    "}\n",
    "\n",
    "# On entraîne ce modèle sur les données d'entrainement\n",
    "grid_DT = GridSearchCV(DecisionTreeRegressor(random_state = 42), parameters_DT, cv=5)\n",
    "grid_DT.fit(X_train, y_train)\n",
    "y_pred_DT = grid_DT.predict(X_test)"
   ]
  },
  {
   "cell_type": "code",
   "execution_count": null,
   "id": "d0b0cfcd",
   "metadata": {},
   "outputs": [],
   "source": [
    "# Affichage des scores\n",
    "r2_DT = round(r2_score(y_test, y_pred_DT), 3)\n",
    "rmse_DT = round(np.sqrt(metrics.mean_squared_error(y_test, y_pred_DT)), 3)\n",
    "mae_DT = round(np.sqrt(metrics.median_absolute_error(y_test, y_pred_DT)), 3)\n",
    "# Les meilleur parametres\n",
    "print(grid_DT.best_params_)\n",
    "\n",
    "# Ajoute à la liste des scores\n",
    "score('Decision Tree Regressor', r2_DT, rmse_DT, mae_DT)"
   ]
  },
  {
   "cell_type": "markdown",
   "id": "465c44a1",
   "metadata": {},
   "source": [
    "## Random Forest Regressor"
   ]
  },
  {
   "cell_type": "code",
   "execution_count": null,
   "id": "416152c8",
   "metadata": {},
   "outputs": [],
   "source": [
    "parameters_RF = {\n",
    "    \"max_depth\": [1, 3, 5, 7, 9, 11, 12],\n",
    "    \"max_features\": [\"auto\", \"log2\", None],\n",
    "    \"min_samples_leaf\":[1,2,4]\n",
    "}\n",
    "\n",
    "# On entraîne ce modèle sur les données d'entrainement\n",
    "grid_RF = GridSearchCV(RandomForestRegressor(), parameters_RF, cv=5)\n",
    "grid_RF.fit(X_train, y_train)\n",
    "y_pred_RF = grid_RF.predict(X_test)"
   ]
  },
  {
   "cell_type": "code",
   "execution_count": null,
   "id": "039b74d9",
   "metadata": {},
   "outputs": [],
   "source": [
    "# Affichage des scores\n",
    "r2_RF = round(r2_score(y_test, y_pred_RF), 3)\n",
    "rmse_RF = round(np.sqrt(metrics.mean_squared_error(y_test, y_pred_RF)), 3)\n",
    "mae_RF = round(np.sqrt(metrics.median_absolute_error(y_test, y_pred_RF)), 3)\n",
    "\n",
    "# Les meilleur parametres\n",
    "print(grid_RF.best_params_)\n",
    "\n",
    "# Ajoute à la liste des scores\n",
    "score('Random Forest Regressor', r2_RF, rmse_RF, mae_RF)"
   ]
  },
  {
   "cell_type": "markdown",
   "id": "54482ea8",
   "metadata": {},
   "source": [
    "## Gradient Boosting Regressor"
   ]
  },
  {
   "cell_type": "code",
   "execution_count": null,
   "id": "f580ab06",
   "metadata": {},
   "outputs": [],
   "source": [
    "parameters_XG = {\n",
    "    \"max_depth\": [1, 3, 5, 7, 9, 11, 12],\n",
    "    \"max_features\": [\"auto\", \"log2\", None],\n",
    "}\n",
    "\n",
    "# On entraîne ce modèle sur les données d'entrainement\n",
    "grid_XG = GridSearchCV(GradientBoostingRegressor(random_state = 42), parameters_XG, cv=5)\n",
    "grid_XG.fit(X_train, y_train)\n",
    "y_pred_XG = grid_XG.predict(X_test)"
   ]
  },
  {
   "cell_type": "code",
   "execution_count": null,
   "id": "31a8206f",
   "metadata": {
    "scrolled": true
   },
   "outputs": [],
   "source": [
    "# Affichage des scores\n",
    "r2_XG = round(r2_score(y_test, y_pred_XG), 3)\n",
    "rmse_XG = round(np.sqrt(metrics.mean_squared_error(y_test, y_pred_XG)), 3)\n",
    "mae_XG = round(np.sqrt(metrics.median_absolute_error(y_test, y_pred_XG)), 3)\n",
    "\n",
    "# Les meilleur parametres\n",
    "print(grid_XG.best_params_)\n",
    "\n",
    "# Ajoute à la liste des scores\n",
    "score('Gradient Boosting Regressor', r2_XG, rmse_XG, mae_XG)"
   ]
  },
  {
   "cell_type": "markdown",
   "id": "4b23522f",
   "metadata": {},
   "source": [
    "# Best Modèle"
   ]
  },
  {
   "cell_type": "markdown",
   "id": "44743194",
   "metadata": {},
   "source": [
    "## Learning Curve"
   ]
  },
  {
   "cell_type": "code",
   "execution_count": null,
   "id": "cdd5f2e2",
   "metadata": {},
   "outputs": [],
   "source": []
  },
  {
   "cell_type": "markdown",
   "id": "3b9ad6a1",
   "metadata": {},
   "source": [
    "# Pickel"
   ]
  },
  {
   "cell_type": "code",
   "execution_count": null,
   "id": "9d8e0324",
   "metadata": {},
   "outputs": [],
   "source": [
    "import pickle\n",
    "with open('C:/Users/zaome/Documents/Week_formation/Projet_CO2/model.pickle', 'wb') as handle:\n",
    "    pickle.dump(grid_XG, handle, protocol = pickle.HIGHEST_PROTOCOL)"
   ]
  },
  {
   "cell_type": "code",
   "execution_count": null,
   "id": "9fea9df5",
   "metadata": {},
   "outputs": [],
   "source": []
  }
 ],
 "metadata": {
  "kernelspec": {
   "display_name": "Python 3",
   "language": "python",
   "name": "python3"
  },
  "language_info": {
   "codemirror_mode": {
    "name": "ipython",
    "version": 3
   },
   "file_extension": ".py",
   "mimetype": "text/x-python",
   "name": "python",
   "nbconvert_exporter": "python",
   "pygments_lexer": "ipython3",
   "version": "3.8.8"
  },
  "toc": {
   "base_numbering": 1,
   "nav_menu": {},
   "number_sections": true,
   "sideBar": true,
   "skip_h1_title": false,
   "title_cell": "Table of Contents",
   "title_sidebar": "Contents",
   "toc_cell": false,
   "toc_position": {},
   "toc_section_display": true,
   "toc_window_display": false
  },
  "varInspector": {
   "cols": {
    "lenName": 16,
    "lenType": 16,
    "lenVar": 40
   },
   "kernels_config": {
    "python": {
     "delete_cmd_postfix": "",
     "delete_cmd_prefix": "del ",
     "library": "var_list.py",
     "varRefreshCmd": "print(var_dic_list())"
    },
    "r": {
     "delete_cmd_postfix": ") ",
     "delete_cmd_prefix": "rm(",
     "library": "var_list.r",
     "varRefreshCmd": "cat(var_dic_list()) "
    }
   },
   "types_to_exclude": [
    "module",
    "function",
    "builtin_function_or_method",
    "instance",
    "_Feature"
   ],
   "window_display": false
  }
 },
 "nbformat": 4,
 "nbformat_minor": 5
}
